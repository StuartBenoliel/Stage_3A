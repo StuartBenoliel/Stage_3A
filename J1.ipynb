{
 "cells": [
  {
   "cell_type": "code",
   "execution_count": 2,
   "metadata": {},
   "outputs": [
    {
     "name": "stdout",
     "output_type": "stream",
     "text": [
      "Requirement already satisfied: opendp in /opt/conda/lib/python3.12/site-packages (0.12.1)\n",
      "Requirement already satisfied: deprecated in /opt/conda/lib/python3.12/site-packages (from opendp) (1.2.18)\n",
      "Requirement already satisfied: wrapt<2,>=1.10 in /opt/conda/lib/python3.12/site-packages (from deprecated->opendp) (1.17.2)\n",
      "Note: you may need to restart the kernel to use updated packages.\n"
     ]
    }
   ],
   "source": [
    "%pip install opendp\n",
    "import opendp.prelude as dp\n",
    "dp.enable_features(\"contrib\")"
   ]
  },
  {
   "cell_type": "code",
   "execution_count": 3,
   "metadata": {},
   "outputs": [
    {
     "name": "stdout",
     "output_type": "stream",
     "text": [
      "input domain:   AtomDomain(T=f64)\n",
      "input metric:   AbsoluteDistance(f64)\n",
      "output measure: MaxDivergence\n"
     ]
    }
   ],
   "source": [
    "# call the constructor to produce the measurement `base_lap`\n",
    "base_lap = dp.m.make_laplace(\n",
    "    dp.atom_domain(T=float),\n",
    "    dp.absolute_distance(T=float),\n",
    "    scale=5.\n",
    ")\n",
    "\n",
    "print(\"input domain:  \", base_lap.input_domain)\n",
    "print(\"input metric:  \", base_lap.input_metric)\n",
    "print(\"output measure:\", base_lap.output_measure)"
   ]
  },
  {
   "cell_type": "code",
   "execution_count": 4,
   "metadata": {},
   "outputs": [
    {
     "name": "stdout",
     "output_type": "stream",
     "text": [
      "noisy aggregate: -8.617681504170022\n",
      "epsilon: 2.0\n"
     ]
    }
   ],
   "source": [
    "aggregate = 0.\n",
    "\n",
    "print(\"noisy aggregate:\", base_lap(aggregate))\n",
    "\n",
    "absolute_distance = 10.\n",
    "\n",
    "print(\"epsilon:\", base_lap.map(d_in=absolute_distance))"
   ]
  },
  {
   "cell_type": "code",
   "execution_count": 5,
   "metadata": {},
   "outputs": [],
   "source": [
    "# call the constructor to produce the transformation `bounded_sum`\n",
    "# notice that `make_sum` expects an input domain consisting of bounded data:\n",
    "\n",
    "input_domain = dp.vector_domain(dp.atom_domain(bounds=(0., 5.)))\n",
    "\n",
    "bounded_sum = dp.t.make_sum(input_domain, dp.symmetric_distance())"
   ]
  },
  {
   "cell_type": "code",
   "execution_count": 6,
   "metadata": {},
   "outputs": [
    {
     "data": {
      "text/plain": [
       "10.1"
      ]
     },
     "execution_count": 6,
     "metadata": {},
     "output_type": "execute_result"
    }
   ],
   "source": [
    "# under the condition that the input data is a member of the input domain...\n",
    "bounded_mock_dataset = [1.3, 3.8, 0., 5.]\n",
    "\n",
    "# ...the exact sum is:\n",
    "bounded_sum(bounded_mock_dataset)"
   ]
  },
  {
   "cell_type": "code",
   "execution_count": 7,
   "metadata": {},
   "outputs": [
    {
     "data": {
      "text/plain": [
       "10.000000046566134"
      ]
     },
     "execution_count": 7,
     "metadata": {},
     "output_type": "execute_result"
    }
   ],
   "source": [
    "# under the condition that one individual may contribute up to 2 records to `bounded_mock_dataset`...\n",
    "max_contributions = 2\n",
    "\n",
    "# ...then the sensitivity, expressed in terms of the absolute distance, is:\n",
    "bounded_sum.map(d_in=max_contributions)"
   ]
  },
  {
   "cell_type": "code",
   "execution_count": 8,
   "metadata": {},
   "outputs": [
    {
     "data": {
      "text/plain": [
       "[1.3, 5.0, 0.0, 5.0]"
      ]
     },
     "execution_count": 8,
     "metadata": {},
     "output_type": "execute_result"
    }
   ],
   "source": [
    "input_domain = dp.vector_domain(dp.atom_domain(T=float))\n",
    "input_metric = dp.symmetric_distance()\n",
    "\n",
    "# call the constructor to produce the transformation `clamp`\n",
    "clamp = dp.t.make_clamp(input_domain, input_metric, bounds=(0., 5.))\n",
    "\n",
    "# `clamp` expects vectors of non-null, unbounded elements\n",
    "mock_dataset = [1.3, 7.8, -2.5, 7.0]\n",
    "\n",
    "# `clamp` emits data that is suitable for `bounded_sum`\n",
    "clamp(mock_dataset)"
   ]
  },
  {
   "cell_type": "code",
   "execution_count": 9,
   "metadata": {},
   "outputs": [
    {
     "name": "stdout",
     "output_type": "stream",
     "text": [
      "DP sum: 4.114412951233465\n",
      "epsilon: 2.000000009313227\n"
     ]
    }
   ],
   "source": [
    "dp_sum = clamp >> bounded_sum >> base_lap\n",
    "\n",
    "# compute the DP sum of a dataset of bounded elements\n",
    "print(\"DP sum:\", dp_sum(mock_dataset))\n",
    "\n",
    "# evaluate the privacy loss of the dp_sum, when an individual can contribute at most 2 records\n",
    "print(\"epsilon:\", dp_sum.map(d_in=max_contributions))"
   ]
  },
  {
   "cell_type": "markdown",
   "metadata": {},
   "source": [
    "# En gros"
   ]
  },
  {
   "cell_type": "code",
   "execution_count": 10,
   "metadata": {},
   "outputs": [
    {
     "name": "stdout",
     "output_type": "stream",
     "text": [
      "epsilon: 2.000000009313227\n",
      "DP sum release: 4.56898816059351\n"
     ]
    }
   ],
   "source": [
    "# establish public info\n",
    "max_contributions = 2\n",
    "bounds = (0., 5.)\n",
    "\n",
    "# construct the measurement\n",
    "dp_sum = (\n",
    "    dp.t.make_clamp(dp.vector_domain(dp.atom_domain(T=float)), dp.symmetric_distance(), bounds) >>\n",
    "    dp.t.make_sum(dp.vector_domain(dp.atom_domain(bounds=bounds)), dp.symmetric_distance()) >>\n",
    "    dp.m.make_laplace(dp.atom_domain(T=float), dp.absolute_distance(T=float), 5.)\n",
    ")\n",
    "\n",
    "# Ou\n",
    "input_domain = dp.vector_domain(dp.atom_domain(T=float))\n",
    "input_metric = dp.symmetric_distance()\n",
    "\n",
    "dp_sum = (\n",
    "    (input_domain, input_metric) >>\n",
    "    dp.t.then_clamp(bounds) >>\n",
    "    dp.t.then_sum() >>\n",
    "    dp.m.then_laplace(5.)\n",
    ")\n",
    "\n",
    "# evaluate the privacy expenditure and make a DP release\n",
    "mock_dataset = [0.7, -0.3, 1., -1.]\n",
    "\n",
    "print(\"epsilon:\", dp_sum.map(max_contributions))\n",
    "\n",
    "print(\"DP sum release:\", dp_sum(mock_dataset))"
   ]
  },
  {
   "cell_type": "markdown",
   "metadata": {},
   "source": [
    "# Quickstart"
   ]
  },
  {
   "cell_type": "code",
   "execution_count": 11,
   "metadata": {},
   "outputs": [
    {
     "name": "stdout",
     "output_type": "stream",
     "text": [
      "122.85896890921396\n"
     ]
    }
   ],
   "source": [
    "space = (dp.atom_domain(T=float), dp.absolute_distance(T=float))\n",
    "\n",
    "laplace_mechanism = space >> dp.m.then_laplace(scale=1.)\n",
    "\n",
    "dp_value = laplace_mechanism(123.0)\n",
    "print(dp_value)"
   ]
  },
  {
   "cell_type": "markdown",
   "metadata": {},
   "source": [
    "# Typical Workflow"
   ]
  },
  {
   "cell_type": "markdown",
   "metadata": {},
   "source": [
    "1. Identify the Unit of Privacy"
   ]
  },
  {
   "cell_type": "code",
   "execution_count": 12,
   "metadata": {},
   "outputs": [
    {
     "name": "stdout",
     "output_type": "stream",
     "text": [
      "(SymmetricDistance(), 1)\n"
     ]
    }
   ],
   "source": [
    "privacy_unit = dp.unit_of(contributions=1)\n",
    "print(privacy_unit)\n",
    "\n",
    "# Ou\n",
    "\n",
    "d_in = 1 # neighboring data set distance is at most d_in...\n",
    "input_metric = dp.symmetric_distance() # ...in terms of additions/removals\n",
    "input_domain = dp.vector_domain(dp.atom_domain(T=float))"
   ]
  },
  {
   "cell_type": "markdown",
   "metadata": {},
   "source": [
    "2. Set Privacy Loss Parameters"
   ]
  },
  {
   "cell_type": "code",
   "execution_count": 13,
   "metadata": {},
   "outputs": [
    {
     "name": "stdout",
     "output_type": "stream",
     "text": [
      "(MaxDivergence, 1.0)\n"
     ]
    }
   ],
   "source": [
    "privacy_loss = dp.loss_of(epsilon=1.)\n",
    "print(privacy_loss)\n",
    "\n",
    "# OU\n",
    "\n",
    "d_out = 1. # output distributions have distance at most d_out (ε)...\n",
    "privacy_measure = dp.max_divergence() # ...in terms of pure-DP"
   ]
  },
  {
   "cell_type": "markdown",
   "metadata": {},
   "source": [
    "3. Collect Public Information"
   ]
  },
  {
   "cell_type": "code",
   "execution_count": 14,
   "metadata": {},
   "outputs": [],
   "source": [
    "bounds = (0.0, 100.0)\n",
    "imputed_value = 50.0"
   ]
  },
  {
   "cell_type": "markdown",
   "metadata": {},
   "source": [
    "4. Mediate Access to Data"
   ]
  },
  {
   "cell_type": "code",
   "execution_count": 15,
   "metadata": {},
   "outputs": [],
   "source": [
    "from random import randint\n",
    "\n",
    "data = [float(randint(-100, 100)) for _ in range(100)]\n",
    "\n",
    "\n",
    "data = [float(1)]\n",
    "\n",
    "context = dp.Context.compositor(\n",
    "    data=data,\n",
    "    privacy_unit=privacy_unit,\n",
    "    privacy_loss=privacy_loss,\n",
    "    split_evenly_over=3 #On veut 3 query donc on va diviser par 3 notre budget\n",
    ")\n",
    "\n",
    "# ou \n",
    "\n",
    "m_sc = dp.c.make_sequential_composition(\n",
    "    input_domain=input_domain,\n",
    "    input_metric=input_metric,\n",
    "    output_measure=privacy_measure,\n",
    "    d_in=d_in,\n",
    "    d_mids=[d_out / 3] * 3,\n",
    ")\n",
    "\n",
    "# Call measurement with data to create a queryable:\n",
    "queryable = m_sc(data)"
   ]
  },
  {
   "cell_type": "markdown",
   "metadata": {},
   "source": [
    "5. Submit DP Queries"
   ]
  },
  {
   "cell_type": "markdown",
   "metadata": {},
   "source": [
    "Count (= len(data))"
   ]
  },
  {
   "cell_type": "code",
   "execution_count": 16,
   "metadata": {},
   "outputs": [
    {
     "name": "stdout",
     "output_type": "stream",
     "text": [
      "3.0000000000000004\n",
      "9.445721638273584\n"
     ]
    },
    {
     "name": "stdout",
     "output_type": "stream",
     "text": [
      "2\n",
      "(-7.445721638273584, 11.445721638273584)\n"
     ]
    }
   ],
   "source": [
    "count_query = (\n",
    "    context.query()\n",
    "    .count()\n",
    "    .laplace()\n",
    ")\n",
    "\n",
    "scale = count_query.param()\n",
    "print(scale)\n",
    "\n",
    "accuracy = dp.discrete_laplacian_scale_to_accuracy(scale=scale, alpha=0.05)\n",
    "print(accuracy)\n",
    "\n",
    "dp_count = count_query.release()\n",
    "print(dp_count)\n",
    "\n",
    "confidence_interval = (dp_count - accuracy, dp_count + accuracy)\n",
    "print(confidence_interval)\n",
    "\n",
    "# OU\n",
    "\n",
    "count_transformation = (\n",
    "    dp.t.make_count(input_domain, input_metric)\n",
    "\n",
    ")\n",
    "\n",
    "count_sensitivity = count_transformation.map(d_in)\n",
    "count_sensitivity\n",
    "\n",
    "count_measurement = dp.binary_search_chain(\n",
    "    lambda scale: count_transformation >> dp.m.then_laplace(scale),\n",
    "    d_in,\n",
    "    d_out / 3\n",
    ")\n",
    "\n",
    "dp_count = queryable(count_measurement)"
   ]
  },
  {
   "cell_type": "markdown",
   "metadata": {},
   "source": [
    "Mean"
   ]
  },
  {
   "cell_type": "code",
   "execution_count": 17,
   "metadata": {},
   "outputs": [
    {
     "name": "stdout",
     "output_type": "stream",
     "text": [
      "76.76004133267799\n"
     ]
    }
   ],
   "source": [
    "mean_query = (\n",
    "    context.query()\n",
    "    .clamp(bounds) # Troncature selon bounds\n",
    "    .resize(size=dp_count, constant=imputed_value) # On impute les valeurs si le count n'est pas respecté mais pas trop compris encore ....\n",
    "    .mean()\n",
    "    .laplace()\n",
    ")\n",
    "\n",
    "dp_mean = mean_query.release()\n",
    "print(dp_mean)\n",
    "# Ou\n",
    "\n",
    "mean_transformation = (\n",
    "    dp.t.make_clamp(input_domain, input_metric, bounds) >>\n",
    "    dp.t.then_resize(size=dp_count, constant=imputed_value) >>\n",
    "    dp.t.then_mean()\n",
    ")\n",
    "\n",
    "mean_measurement = dp.binary_search_chain(\n",
    "    lambda scale: mean_transformation >> dp.m.then_laplace(scale), d_in, d_out / 3\n",
    ")\n",
    "\n",
    "dp_mean = queryable(mean_measurement)"
   ]
  },
  {
   "cell_type": "markdown",
   "metadata": {},
   "source": [
    "# Working with tabular data"
   ]
  },
  {
   "cell_type": "code",
   "execution_count": 18,
   "metadata": {},
   "outputs": [
    {
     "name": "stdout",
     "output_type": "stream",
     "text": [
      "Requirement already satisfied: opendp[polars] in /opt/conda/lib/python3.12/site-packages (0.12.1)\n",
      "Requirement already satisfied: deprecated in /opt/conda/lib/python3.12/site-packages (from opendp[polars]) (1.2.18)\n",
      "Requirement already satisfied: polars==1.12.0 in /opt/conda/lib/python3.12/site-packages (from opendp[polars]) (1.12.0)\n",
      "Requirement already satisfied: pyarrow in /opt/conda/lib/python3.12/site-packages (from opendp[polars]) (19.0.1)\n",
      "Requirement already satisfied: scikit-learn in /opt/conda/lib/python3.12/site-packages (from opendp[polars]) (1.6.1)\n",
      "Requirement already satisfied: numpy in /opt/conda/lib/python3.12/site-packages (from opendp[polars]) (2.2.4)\n",
      "Requirement already satisfied: randomgen>=2.0.0 in /opt/conda/lib/python3.12/site-packages (from opendp[polars]) (2.1.1)\n",
      "Requirement already satisfied: wrapt<2,>=1.10 in /opt/conda/lib/python3.12/site-packages (from deprecated->opendp[polars]) (1.17.2)\n",
      "Requirement already satisfied: scipy>=1.6.0 in /opt/conda/lib/python3.12/site-packages (from scikit-learn->opendp[polars]) (1.15.2)\n",
      "Requirement already satisfied: joblib>=1.2.0 in /opt/conda/lib/python3.12/site-packages (from scikit-learn->opendp[polars]) (1.4.2)\n",
      "Requirement already satisfied: threadpoolctl>=3.1.0 in /opt/conda/lib/python3.12/site-packages (from scikit-learn->opendp[polars]) (3.6.0)\n",
      "Note: you may need to restart the kernel to use updated packages.\n",
      "Requirement already satisfied: hvplot in /opt/conda/lib/python3.12/site-packages (0.11.2)\n",
      "Requirement already satisfied: bokeh>=3.1 in /opt/conda/lib/python3.12/site-packages (from hvplot) (3.6.3)\n",
      "Requirement already satisfied: colorcet>=2 in /opt/conda/lib/python3.12/site-packages (from hvplot) (3.1.0)\n",
      "Requirement already satisfied: holoviews>=1.19.0 in /opt/conda/lib/python3.12/site-packages (from hvplot) (1.20.2)\n",
      "Requirement already satisfied: numpy>=1.21 in /opt/conda/lib/python3.12/site-packages (from hvplot) (2.2.4)\n",
      "Requirement already satisfied: packaging in /opt/conda/lib/python3.12/site-packages (from hvplot) (24.2)\n",
      "Requirement already satisfied: pandas>=1.3 in /opt/conda/lib/python3.12/site-packages (from hvplot) (2.2.3)\n",
      "Requirement already satisfied: panel>=1.0 in /opt/conda/lib/python3.12/site-packages (from hvplot) (1.6.1)\n",
      "Requirement already satisfied: param<3.0,>=1.12.0 in /opt/conda/lib/python3.12/site-packages (from hvplot) (2.2.0)\n",
      "Requirement already satisfied: Jinja2>=2.9 in /opt/conda/lib/python3.12/site-packages (from bokeh>=3.1->hvplot) (3.1.6)\n",
      "Requirement already satisfied: contourpy>=1.2 in /opt/conda/lib/python3.12/site-packages (from bokeh>=3.1->hvplot) (1.3.1)\n",
      "Requirement already satisfied: pillow>=7.1.0 in /opt/conda/lib/python3.12/site-packages (from bokeh>=3.1->hvplot) (11.1.0)\n",
      "Requirement already satisfied: PyYAML>=3.10 in /opt/conda/lib/python3.12/site-packages (from bokeh>=3.1->hvplot) (6.0.2)\n",
      "Requirement already satisfied: tornado>=6.2 in /opt/conda/lib/python3.12/site-packages (from bokeh>=3.1->hvplot) (6.4.2)\n",
      "Requirement already satisfied: xyzservices>=2021.09.1 in /opt/conda/lib/python3.12/site-packages (from bokeh>=3.1->hvplot) (2025.1.0)\n",
      "Requirement already satisfied: pyviz-comms>=2.1 in /opt/conda/lib/python3.12/site-packages (from holoviews>=1.19.0->hvplot) (3.0.4)\n",
      "Requirement already satisfied: python-dateutil>=2.8.2 in /opt/conda/lib/python3.12/site-packages (from pandas>=1.3->hvplot) (2.9.0.post0)\n",
      "Requirement already satisfied: pytz>=2020.1 in /opt/conda/lib/python3.12/site-packages (from pandas>=1.3->hvplot) (2024.1)\n",
      "Requirement already satisfied: tzdata>=2022.7 in /opt/conda/lib/python3.12/site-packages (from pandas>=1.3->hvplot) (2025.2)\n",
      "Requirement already satisfied: bleach in /opt/conda/lib/python3.12/site-packages (from panel>=1.0->hvplot) (6.2.0)\n",
      "Requirement already satisfied: linkify-it-py in /opt/conda/lib/python3.12/site-packages (from panel>=1.0->hvplot) (2.0.3)\n",
      "Requirement already satisfied: markdown in /opt/conda/lib/python3.12/site-packages (from panel>=1.0->hvplot) (3.6)\n",
      "Requirement already satisfied: markdown-it-py in /opt/conda/lib/python3.12/site-packages (from panel>=1.0->hvplot) (3.0.0)\n",
      "Requirement already satisfied: mdit-py-plugins in /opt/conda/lib/python3.12/site-packages (from panel>=1.0->hvplot) (0.4.2)\n",
      "Requirement already satisfied: requests in /opt/conda/lib/python3.12/site-packages (from panel>=1.0->hvplot) (2.32.3)\n",
      "Requirement already satisfied: tqdm in /opt/conda/lib/python3.12/site-packages (from panel>=1.0->hvplot) (4.67.1)\n",
      "Requirement already satisfied: typing-extensions in /opt/conda/lib/python3.12/site-packages (from panel>=1.0->hvplot) (4.12.2)\n",
      "Requirement already satisfied: MarkupSafe>=2.0 in /opt/conda/lib/python3.12/site-packages (from Jinja2>=2.9->bokeh>=3.1->hvplot) (3.0.2)\n",
      "Requirement already satisfied: six>=1.5 in /opt/conda/lib/python3.12/site-packages (from python-dateutil>=2.8.2->pandas>=1.3->hvplot) (1.17.0)\n",
      "Requirement already satisfied: webencodings in /opt/conda/lib/python3.12/site-packages (from bleach->panel>=1.0->hvplot) (0.5.1)\n",
      "Requirement already satisfied: uc-micro-py in /opt/conda/lib/python3.12/site-packages (from linkify-it-py->panel>=1.0->hvplot) (1.0.3)\n",
      "Requirement already satisfied: mdurl~=0.1 in /opt/conda/lib/python3.12/site-packages (from markdown-it-py->panel>=1.0->hvplot) (0.1.2)\n",
      "Requirement already satisfied: charset_normalizer<4,>=2 in /opt/conda/lib/python3.12/site-packages (from requests->panel>=1.0->hvplot) (3.4.1)\n",
      "Requirement already satisfied: idna<4,>=2.5 in /opt/conda/lib/python3.12/site-packages (from requests->panel>=1.0->hvplot) (3.10)\n",
      "Requirement already satisfied: urllib3<3,>=1.21.1 in /opt/conda/lib/python3.12/site-packages (from requests->panel>=1.0->hvplot) (2.3.0)\n",
      "Requirement already satisfied: certifi>=2017.4.17 in /opt/conda/lib/python3.12/site-packages (from requests->panel>=1.0->hvplot) (2025.1.31)\n",
      "Note: you may need to restart the kernel to use updated packages.\n"
     ]
    }
   ],
   "source": [
    "%pip install 'opendp[polars]'\n",
    "%pip install hvplot"
   ]
  },
  {
   "cell_type": "code",
   "execution_count": 19,
   "metadata": {},
   "outputs": [],
   "source": [
    "import polars as pl\n",
    "import opendp.prelude as dp\n",
    "\n",
    "dp.enable_features(\"contrib\")\n",
    "\n",
    "context = dp.Context.compositor(\n",
    "    data=pl.scan_csv(dp.examples.get_france_lfs_path(), ignore_errors=True),\n",
    "    privacy_unit=dp.unit_of(contributions=36),\n",
    "    privacy_loss=dp.loss_of(epsilon=1.0),\n",
    "    split_evenly_over=5,\n",
    ")\n",
    "\n",
    "# Once you construct the context, you should abstain from directly accessing your data again.\n",
    "# In fact, it is good practice to delete it!"
   ]
  },
  {
   "cell_type": "markdown",
   "metadata": {},
   "source": [
    "# Essential Statistics"
   ]
  },
  {
   "cell_type": "markdown",
   "metadata": {},
   "source": [
    "Count"
   ]
  },
  {
   "cell_type": "code",
   "execution_count": 20,
   "metadata": {},
   "outputs": [
    {
     "data": {
      "text/html": [
       "<div><style>\n",
       ".dataframe > thead > tr,\n",
       ".dataframe > tbody > tr {\n",
       "  text-align: right;\n",
       "  white-space: pre-wrap;\n",
       "}\n",
       "</style>\n",
       "<small>shape: (1, 5)</small><table border=\"1\" class=\"dataframe\"><thead><tr><th>column</th><th>aggregate</th><th>distribution</th><th>scale</th><th>accuracy</th></tr><tr><td>str</td><td>str</td><td>str</td><td>f64</td><td>f64</td></tr></thead><tbody><tr><td>&quot;len&quot;</td><td>&quot;Frame Length&quot;</td><td>&quot;Integer Laplace&quot;</td><td>180.0</td><td>2.308366</td></tr></tbody></table></div>"
      ],
      "text/plain": [
       "shape: (1, 5)\n",
       "┌────────┬──────────────┬─────────────────┬───────┬──────────┐\n",
       "│ column ┆ aggregate    ┆ distribution    ┆ scale ┆ accuracy │\n",
       "│ ---    ┆ ---          ┆ ---             ┆ ---   ┆ ---      │\n",
       "│ str    ┆ str          ┆ str             ┆ f64   ┆ f64      │\n",
       "╞════════╪══════════════╪═════════════════╪═══════╪══════════╡\n",
       "│ len    ┆ Frame Length ┆ Integer Laplace ┆ 180.0 ┆ 2.308366 │\n",
       "└────────┴──────────────┴─────────────────┴───────┴──────────┘"
      ]
     },
     "execution_count": 20,
     "metadata": {},
     "output_type": "execute_result"
    }
   ],
   "source": [
    "query_num_responses = context.query().select(dp.len())\n",
    "query_num_responses.summarize(alpha=.99)"
   ]
  },
  {
   "cell_type": "code",
   "execution_count": 21,
   "metadata": {},
   "outputs": [
    {
     "data": {
      "text/plain": [
       "199943"
      ]
     },
     "execution_count": 21,
     "metadata": {},
     "output_type": "execute_result"
    }
   ],
   "source": [
    "query_num_responses.release().collect().item()"
   ]
  },
  {
   "cell_type": "markdown",
   "metadata": {},
   "source": [
    "Sum"
   ]
  },
  {
   "cell_type": "code",
   "execution_count": 22,
   "metadata": {},
   "outputs": [],
   "source": [
    "context = dp.Context.compositor(\n",
    "    data=pl.scan_csv(dp.examples.get_france_lfs_path(), ignore_errors=True),\n",
    "    privacy_unit=dp.unit_of(contributions=36),\n",
    "    privacy_loss=dp.loss_of(epsilon=1.0),\n",
    "    split_evenly_over=5,\n",
    "    # NEW CODE STARTING HERE\n",
    "    margins={\n",
    "        # when data is not grouped (empty tuple)...\n",
    "        (): dp.polars.Margin(\n",
    "            # ...the biggest (and only) partition is no larger than\n",
    "            #    France population * number of quarters\n",
    "            max_partition_length=60_000_000 * 36\n",
    "        ),\n",
    "    },\n",
    ")"
   ]
  },
  {
   "cell_type": "code",
   "execution_count": 23,
   "metadata": {},
   "outputs": [
    {
     "data": {
      "text/html": [
       "<div><style>\n",
       ".dataframe > thead > tr,\n",
       ".dataframe > tbody > tr {\n",
       "  text-align: right;\n",
       "  white-space: pre-wrap;\n",
       "}\n",
       "</style>\n",
       "<small>shape: (1, 5)</small><table border=\"1\" class=\"dataframe\"><thead><tr><th>column</th><th>aggregate</th><th>distribution</th><th>scale</th><th>accuracy</th></tr><tr><td>str</td><td>str</td><td>str</td><td>f64</td><td>f64</td></tr></thead><tbody><tr><td>&quot;HWUSUAL&quot;</td><td>&quot;Sum&quot;</td><td>&quot;Integer Laplace&quot;</td><td>14400.0</td><td>43139.04473</td></tr></tbody></table></div>"
      ],
      "text/plain": [
       "shape: (1, 5)\n",
       "┌─────────┬───────────┬─────────────────┬─────────┬─────────────┐\n",
       "│ column  ┆ aggregate ┆ distribution    ┆ scale   ┆ accuracy    │\n",
       "│ ---     ┆ ---       ┆ ---             ┆ ---     ┆ ---         │\n",
       "│ str     ┆ str       ┆ str             ┆ f64     ┆ f64         │\n",
       "╞═════════╪═══════════╪═════════════════╪═════════╪═════════════╡\n",
       "│ HWUSUAL ┆ Sum       ┆ Integer Laplace ┆ 14400.0 ┆ 43139.04473 │\n",
       "└─────────┴───────────┴─────────────────┴─────────┴─────────────┘"
      ]
     },
     "execution_count": 23,
     "metadata": {},
     "output_type": "execute_result"
    }
   ],
   "source": [
    "query_work_hours = (\n",
    "    # 99 represents \"Not applicable\"\n",
    "    context.query().filter(pl.col(\"HWUSUAL\") != 99.0)\n",
    "    # compute the DP sum\n",
    "    .select(pl.col.HWUSUAL.cast(int).fill_null(35).dp.sum(bounds=(0, 80)))\n",
    ")\n",
    "query_work_hours.summarize(alpha=0.05)"
   ]
  },
  {
   "cell_type": "code",
   "execution_count": null,
   "metadata": {},
   "outputs": [
    {
     "name": "stdout",
     "output_type": "stream",
     "text": [
      "Help on LazyFrameQuery in module polars.lazyframe.frame object:\n",
      "\n",
      "class LazyFrameQuery(builtins.object)\n",
      " |  LazyFrameQuery(lf_plan, query)\n",
      " |\n",
      " |  A ``LazyFrameQuery`` may be returned by :py:func:`opendp.context.Context.query`.\n",
      " |  It mimics a `Polars LazyFrame <https://docs.pola.rs/api/python/stable/reference/lazyframe/index.html>`_,\n",
      " |  but makes a few additions and changes as documented below.\n",
      " |\n",
      " |  Methods defined here:\n",
      " |\n",
      " |  __getattribute__(self, name)\n",
      " |      Return getattr(self, name).\n",
      " |\n",
      " |  __init__(self, lf_plan, query)\n",
      " |      Initialize self.  See help(type(self)) for accurate signature.\n",
      " |\n",
      " |  filter(self, *predicates, **constraints: 'Any') -> 'LazyFrameQuery'\n",
      " |      Filter the rows in the ``LazyFrame`` based on a predicate expression.\n",
      " |\n",
      " |      OpenDP discards relevant margin descriptors in the domain when filtering.\n",
      " |\n",
      " |  group_by(self, *by, maintain_order: 'bool' = False, **named_by) -> 'LazyGroupByQuery'\n",
      " |      Start a group by operation.\n",
      " |\n",
      " |      OpenDP currently requires that grouping keys be simple column expressions.\n",
      " |\n",
      " |  join(self, other, on=None, how='inner', *, left_on=None, right_on=None, suffix: 'str' = '_right', validate='m:m', join_nulls: 'bool' = False, coalesce: 'bool | None' = None, allow_parallel: 'bool' = True, force_parallel: 'bool' = False) -> 'LazyFrameQuery'\n",
      " |      Add a join operation to the Logical Plan.\n",
      " |\n",
      " |  release(self) -> 'OnceFrame'\n",
      " |      Release the query. The query must be part of a context.\n",
      " |\n",
      " |  resolve(self) -> 'Measurement'\n",
      " |      Resolve the query into a measurement.\n",
      " |\n",
      " |  select(self, *exprs, **named_exprs) -> 'LazyFrameQuery'\n",
      " |      Select columns from this ``LazyFrame``.\n",
      " |\n",
      " |      OpenDP expects expressions in select statements that don't aggregate to be row-by-row.\n",
      " |\n",
      " |  select_seq(self, *exprs, **named_exprs) -> 'LazyFrameQuery'\n",
      " |      Select columns from this ``LazyFrame``.\n",
      " |\n",
      " |      OpenDP allows expressions in select statements that aggregate to not be row-by-row.\n",
      " |\n",
      " |  sort(self, by, *more_by, descending: 'bool | Sequence[bool]' = False, nulls_last: 'bool | Sequence[bool]' = False, maintain_order: 'bool' = False, multithreaded: 'bool' = True) -> 'LazyFrameQuery'\n",
      " |      Sort the ``LazyFrame`` by the given columns.\n",
      " |\n",
      " |  summarize(self, alpha: 'float | None' = None)\n",
      " |      Summarize the statistics released by this query.\n",
      " |\n",
      " |      If ``alpha`` is passed, the resulting data frame includes an ``accuracy`` column.\n",
      " |\n",
      " |      If a threshold is configured for censoring small/sensitive partitions,\n",
      " |      a threshold column will be included,\n",
      " |      containing the cutoff for the respective count query being thresholded.\n",
      " |\n",
      " |      :param alpha: optional. A value in [0, 1] denoting the statistical significance. For the corresponding confidence level, subtract from from 1: for 95% confidence, use 0.05 for alpha.\n",
      " |\n",
      " |      :example:\n",
      " |\n",
      " |      >>> import polars as pl\n",
      " |      >>> data = pl.LazyFrame([pl.Series(\"convicted\", [0, 1, 1, 0, 1] * 50, dtype=pl.Int32)])\n",
      " |      >>>\n",
      " |      >>> context = dp.Context.compositor(\n",
      " |      ...     data=data,\n",
      " |      ...     privacy_unit=dp.unit_of(contributions=1),\n",
      " |      ...     privacy_loss=dp.loss_of(epsilon=1.0),\n",
      " |      ...     split_evenly_over=1,\n",
      " |      ...     margins={(): dp.polars.Margin(max_partition_length=1000)},\n",
      " |      ... )\n",
      " |      >>>\n",
      " |      >>> query = context.query().select(\n",
      " |      ...     dp.len(),\n",
      " |      ...     pl.col(\"convicted\").fill_null(0).dp.sum((0, 1))\n",
      " |      ... )\n",
      " |      >>>\n",
      " |      >>> query.summarize(alpha=.05)  # type: ignore[union-attr]\n",
      " |      shape: (2, 5)\n",
      " |      ┌───────────┬──────────────┬─────────────────┬───────┬──────────┐\n",
      " |      │ column    ┆ aggregate    ┆ distribution    ┆ scale ┆ accuracy │\n",
      " |      │ ---       ┆ ---          ┆ ---             ┆ ---   ┆ ---      │\n",
      " |      │ str       ┆ str          ┆ str             ┆ f64   ┆ f64      │\n",
      " |      ╞═══════════╪══════════════╪═════════════════╪═══════╪══════════╡\n",
      " |      │ len       ┆ Frame Length ┆ Integer Laplace ┆ 2.0   ┆ 6.429605 │\n",
      " |      │ convicted ┆ Sum          ┆ Integer Laplace ┆ 2.0   ┆ 6.429605 │\n",
      " |      └───────────┴──────────────┴─────────────────┴───────┴──────────┘\n",
      " |\n",
      " |      The accuracy in any given row can be interpreted with:\n",
      " |\n",
      " |      >>> def interpret_accuracy(distribution, scale, accuracy, alpha):\n",
      " |      ...     return (\n",
      " |      ...         f\"When the {distribution} scale is {scale}, \"\n",
      " |      ...         f\"the DP estimate differs from the true value by no more than {accuracy} \"\n",
      " |      ...         f\"at a statistical significance level alpha of {alpha}, \"\n",
      " |      ...         f\"or with (1 - {alpha})100% = {(1 - alpha) * 100}% confidence.\"\n",
      " |      ...     )\n",
      " |      ...\n",
      " |      >>> interpret_accuracy(\"Integer Laplace\", 2.0, 6.429605, alpha=.05) # doctest:+SKIP\n",
      " |\n",
      " |  with_columns(self, *exprs, **named_exprs) -> 'LazyFrameQuery'\n",
      " |      Add columns to this ``LazyFrame``.\n",
      " |\n",
      " |      OpenDP requires that expressions in with_columns are row-by-row:\n",
      " |      expressions may not change the number or order of records\n",
      " |\n",
      " |  with_columns_seq(self, *exprs, **named_exprs) -> 'LazyFrameQuery'\n",
      " |      Add columns to this ``LazyFrame``.\n",
      " |\n",
      " |      OpenDP requires that expressions in with_columns are row-by-row:\n",
      " |      expressions may not change the number or order of records\n",
      " |\n",
      " |  with_keys(self, keys, on: 'list[str] | None' = None) -> 'LazyFrameQuery'\n",
      " |      Shorthand to join with an explicit key-set.\n",
      " |\n",
      " |      :param keys: lazyframe containing a key-set whose columns correspond to the grouping keys\n",
      " |      :param on: optional, the names of columns to join on. Useful if the key dataframe contains extra columns\n",
      " |\n",
      " |  ----------------------------------------------------------------------\n",
      " |  Data descriptors defined here:\n",
      " |\n",
      " |  __dict__\n",
      " |      dictionary for instance variables\n",
      " |\n",
      " |  __weakref__\n",
      " |      list of weak references to the object\n",
      "\n"
     ]
    }
   ],
   "source": [
    "help(query_work_hours)"
   ]
  },
  {
   "cell_type": "code",
   "execution_count": 24,
   "metadata": {},
   "outputs": [
    {
     "data": {
      "text/html": [
       "<div><style>\n",
       ".dataframe > thead > tr,\n",
       ".dataframe > tbody > tr {\n",
       "  text-align: right;\n",
       "  white-space: pre-wrap;\n",
       "}\n",
       "</style>\n",
       "<small>shape: (1, 1)</small><table border=\"1\" class=\"dataframe\"><thead><tr><th>HWUSUAL</th></tr><tr><td>i64</td></tr></thead><tbody><tr><td>2945793</td></tr></tbody></table></div>"
      ],
      "text/plain": [
       "shape: (1, 1)\n",
       "┌─────────┐\n",
       "│ HWUSUAL │\n",
       "│ ---     │\n",
       "│ i64     │\n",
       "╞═════════╡\n",
       "│ 2945793 │\n",
       "└─────────┘"
      ]
     },
     "execution_count": 24,
     "metadata": {},
     "output_type": "execute_result"
    }
   ],
   "source": [
    "query_work_hours.release().collect()"
   ]
  },
  {
   "cell_type": "markdown",
   "metadata": {},
   "source": [
    "Mean"
   ]
  },
  {
   "cell_type": "code",
   "execution_count": 7,
   "metadata": {},
   "outputs": [
    {
     "data": {
      "text/html": [
       "<div><style>\n",
       ".dataframe > thead > tr,\n",
       ".dataframe > tbody > tr {\n",
       "  text-align: right;\n",
       "  white-space: pre-wrap;\n",
       "}\n",
       "</style>\n",
       "<small>shape: (2, 5)</small><table border=\"1\" class=\"dataframe\"><thead><tr><th>column</th><th>aggregate</th><th>distribution</th><th>scale</th><th>accuracy</th></tr><tr><td>str</td><td>str</td><td>str</td><td>f64</td><td>f64</td></tr></thead><tbody><tr><td>&quot;HWUSUAL&quot;</td><td>&quot;Sum&quot;</td><td>&quot;Integer Laplace&quot;</td><td>28800.0</td><td>86277.589474</td></tr><tr><td>&quot;len&quot;</td><td>&quot;Frame Length&quot;</td><td>&quot;Integer Laplace&quot;</td><td>360.0</td><td>1078.963271</td></tr></tbody></table></div>"
      ],
      "text/plain": [
       "shape: (2, 5)\n",
       "┌─────────┬──────────────┬─────────────────┬─────────┬──────────────┐\n",
       "│ column  ┆ aggregate    ┆ distribution    ┆ scale   ┆ accuracy     │\n",
       "│ ---     ┆ ---          ┆ ---             ┆ ---     ┆ ---          │\n",
       "│ str     ┆ str          ┆ str             ┆ f64     ┆ f64          │\n",
       "╞═════════╪══════════════╪═════════════════╪═════════╪══════════════╡\n",
       "│ HWUSUAL ┆ Sum          ┆ Integer Laplace ┆ 28800.0 ┆ 86277.589474 │\n",
       "│ len     ┆ Frame Length ┆ Integer Laplace ┆ 360.0   ┆ 1078.963271  │\n",
       "└─────────┴──────────────┴─────────────────┴─────────┴──────────────┘"
      ]
     },
     "execution_count": 7,
     "metadata": {},
     "output_type": "execute_result"
    }
   ],
   "source": [
    "query_work_hours = (\n",
    "    context.query().filter(pl.col.HWUSUAL != 99.0)\n",
    "    # release both the sum and length in one query\n",
    "    .select(pl.col.HWUSUAL.cast(int).fill_null(35).dp.sum(bounds=(0, 80)), dp.len())\n",
    ")\n",
    "query_work_hours.summarize(alpha=0.05)\n",
    "\n",
    "#query_work_hours.release().collect().with_columns(mean=pl.col.HWUSUAL / pl.col.len)"
   ]
  },
  {
   "cell_type": "markdown",
   "metadata": {},
   "source": [
    "Median"
   ]
  },
  {
   "cell_type": "code",
   "execution_count": 8,
   "metadata": {},
   "outputs": [
    {
     "data": {
      "text/html": [
       "<div><style>\n",
       ".dataframe > thead > tr,\n",
       ".dataframe > tbody > tr {\n",
       "  text-align: right;\n",
       "  white-space: pre-wrap;\n",
       "}\n",
       "</style>\n",
       "<small>shape: (1, 5)</small><table border=\"1\" class=\"dataframe\"><thead><tr><th>column</th><th>aggregate</th><th>distribution</th><th>scale</th><th>accuracy</th></tr><tr><td>str</td><td>str</td><td>str</td><td>f64</td><td>f64</td></tr></thead><tbody><tr><td>&quot;HWUSUAL&quot;</td><td>&quot;0.5-Quantile&quot;</td><td>&quot;GumbelMin&quot;</td><td>360.0</td><td>null</td></tr></tbody></table></div>"
      ],
      "text/plain": [
       "shape: (1, 5)\n",
       "┌─────────┬──────────────┬──────────────┬───────┬──────────┐\n",
       "│ column  ┆ aggregate    ┆ distribution ┆ scale ┆ accuracy │\n",
       "│ ---     ┆ ---          ┆ ---          ┆ ---   ┆ ---      │\n",
       "│ str     ┆ str          ┆ str          ┆ f64   ┆ f64      │\n",
       "╞═════════╪══════════════╪══════════════╪═══════╪══════════╡\n",
       "│ HWUSUAL ┆ 0.5-Quantile ┆ GumbelMin    ┆ 360.0 ┆ null     │\n",
       "└─────────┴──────────────┴──────────────┴───────┴──────────┘"
      ]
     },
     "execution_count": 8,
     "metadata": {},
     "output_type": "execute_result"
    }
   ],
   "source": [
    "candidates = list(range(20, 60))\n",
    "\n",
    "query_median_hours = (\n",
    "    context.query()\n",
    "    .filter(pl.col.HWUSUAL != 99.0)\n",
    "    .select(pl.col.HWUSUAL.fill_null(35).dp.median(candidates))\n",
    ")\n",
    "query_median_hours.summarize(alpha=0.05)\n",
    "\n",
    "# This time the accuracy estimate is unknown because the algorithm isn’t directly adding noise: it’s scoring each candidate, adding noise to each score, and then releasing the candidate with the best noisy score"
   ]
  },
  {
   "cell_type": "code",
   "execution_count": 9,
   "metadata": {},
   "outputs": [
    {
     "data": {
      "text/html": [
       "<div><style>\n",
       ".dataframe > thead > tr,\n",
       ".dataframe > tbody > tr {\n",
       "  text-align: right;\n",
       "  white-space: pre-wrap;\n",
       "}\n",
       "</style>\n",
       "<small>shape: (1, 1)</small><table border=\"1\" class=\"dataframe\"><thead><tr><th>HWUSUAL</th></tr><tr><td>i64</td></tr></thead><tbody><tr><td>37</td></tr></tbody></table></div>"
      ],
      "text/plain": [
       "shape: (1, 1)\n",
       "┌─────────┐\n",
       "│ HWUSUAL │\n",
       "│ ---     │\n",
       "│ i64     │\n",
       "╞═════════╡\n",
       "│ 37      │\n",
       "└─────────┘"
      ]
     },
     "execution_count": 9,
     "metadata": {},
     "output_type": "execute_result"
    }
   ],
   "source": [
    "query_median_hours.release().collect()"
   ]
  },
  {
   "cell_type": "markdown",
   "metadata": {},
   "source": [
    "Quantile"
   ]
  },
  {
   "cell_type": "code",
   "execution_count": 10,
   "metadata": {},
   "outputs": [
    {
     "data": {
      "text/html": [
       "<div><style>\n",
       ".dataframe > thead > tr,\n",
       ".dataframe > tbody > tr {\n",
       "  text-align: right;\n",
       "  white-space: pre-wrap;\n",
       "}\n",
       "</style>\n",
       "<small>shape: (3, 4)</small><table border=\"1\" class=\"dataframe\"><thead><tr><th>column</th><th>aggregate</th><th>distribution</th><th>scale</th></tr><tr><td>str</td><td>str</td><td>str</td><td>f64</td></tr></thead><tbody><tr><td>&quot;0.25-Quantile&quot;</td><td>&quot;0.25-Quantile&quot;</td><td>&quot;GumbelMin&quot;</td><td>3240.0</td></tr><tr><td>&quot;0.5-Quantile&quot;</td><td>&quot;0.5-Quantile&quot;</td><td>&quot;GumbelMin&quot;</td><td>1080.0</td></tr><tr><td>&quot;0.75-Quantile&quot;</td><td>&quot;0.75-Quantile&quot;</td><td>&quot;GumbelMin&quot;</td><td>3240.0</td></tr></tbody></table></div>"
      ],
      "text/plain": [
       "shape: (3, 4)\n",
       "┌───────────────┬───────────────┬──────────────┬────────┐\n",
       "│ column        ┆ aggregate     ┆ distribution ┆ scale  │\n",
       "│ ---           ┆ ---           ┆ ---          ┆ ---    │\n",
       "│ str           ┆ str           ┆ str          ┆ f64    │\n",
       "╞═══════════════╪═══════════════╪══════════════╪════════╡\n",
       "│ 0.25-Quantile ┆ 0.25-Quantile ┆ GumbelMin    ┆ 3240.0 │\n",
       "│ 0.5-Quantile  ┆ 0.5-Quantile  ┆ GumbelMin    ┆ 1080.0 │\n",
       "│ 0.75-Quantile ┆ 0.75-Quantile ┆ GumbelMin    ┆ 3240.0 │\n",
       "└───────────────┴───────────────┴──────────────┴────────┘"
      ]
     },
     "execution_count": 10,
     "metadata": {},
     "output_type": "execute_result"
    }
   ],
   "source": [
    "query_multi_quantiles = (\n",
    "    context.query()\n",
    "    .filter(pl.col.HWUSUAL != 99.0)\n",
    "    .select(\n",
    "        pl.col.HWUSUAL.fill_null(35).dp.quantile(a, candidates).alias(f\"{a}-Quantile\")\n",
    "        for a in [0.25, 0.5, 0.75]\n",
    "    )\n",
    ")\n",
    "query_multi_quantiles.summarize()"
   ]
  },
  {
   "cell_type": "code",
   "execution_count": 11,
   "metadata": {},
   "outputs": [
    {
     "data": {
      "text/html": [
       "<div><style>\n",
       ".dataframe > thead > tr,\n",
       ".dataframe > tbody > tr {\n",
       "  text-align: right;\n",
       "  white-space: pre-wrap;\n",
       "}\n",
       "</style>\n",
       "<small>shape: (1, 3)</small><table border=\"1\" class=\"dataframe\"><thead><tr><th>0.25-Quantile</th><th>0.5-Quantile</th><th>0.75-Quantile</th></tr><tr><td>i64</td><td>i64</td><td>i64</td></tr></thead><tbody><tr><td>35</td><td>37</td><td>40</td></tr></tbody></table></div>"
      ],
      "text/plain": [
       "shape: (1, 3)\n",
       "┌───────────────┬──────────────┬───────────────┐\n",
       "│ 0.25-Quantile ┆ 0.5-Quantile ┆ 0.75-Quantile │\n",
       "│ ---           ┆ ---          ┆ ---           │\n",
       "│ i64           ┆ i64          ┆ i64           │\n",
       "╞═══════════════╪══════════════╪═══════════════╡\n",
       "│ 35            ┆ 37           ┆ 40            │\n",
       "└───────────────┴──────────────┴───────────────┘"
      ]
     },
     "execution_count": 11,
     "metadata": {},
     "output_type": "execute_result"
    }
   ],
   "source": [
    "query_multi_quantiles.release().collect()"
   ]
  },
  {
   "cell_type": "markdown",
   "metadata": {},
   "source": [
    "# Group_by"
   ]
  },
  {
   "cell_type": "markdown",
   "metadata": {},
   "source": [
    "Stable keys"
   ]
  },
  {
   "cell_type": "code",
   "execution_count": 13,
   "metadata": {},
   "outputs": [],
   "source": [
    "context = dp.Context.compositor(\n",
    "    # Many columns contain mixtures of strings and numbers and cannot be parsed as floats,\n",
    "    # so we'll set `ignore_errors` to true to avoid conversion errors.\n",
    "    data=pl.scan_csv(dp.examples.get_france_lfs_path(), ignore_errors=True),\n",
    "    privacy_unit=dp.unit_of(contributions=36),\n",
    "    privacy_loss=dp.loss_of(epsilon=1.0 / 4, delta=1e-12),\n",
    "    # allow for one query\n",
    "    split_evenly_over=1,\n",
    ")\n",
    "\n",
    "query_age_ilostat = (\n",
    "    context.query()\n",
    "    .group_by(\"AGE\", \"ILOSTAT\")\n",
    "    .agg(dp.len())\n",
    ")\n"
   ]
  },
  {
   "cell_type": "code",
   "execution_count": 14,
   "metadata": {},
   "outputs": [
    {
     "data": {
      "text/html": [
       "<div><style>\n",
       ".dataframe > thead > tr,\n",
       ".dataframe > tbody > tr {\n",
       "  text-align: right;\n",
       "  white-space: pre-wrap;\n",
       "}\n",
       "</style>\n",
       "<small>shape: (1, 6)</small><table border=\"1\" class=\"dataframe\"><thead><tr><th>column</th><th>aggregate</th><th>distribution</th><th>scale</th><th>accuracy</th><th>threshold</th></tr><tr><td>str</td><td>str</td><td>str</td><td>f64</td><td>f64</td><td>u32</td></tr></thead><tbody><tr><td>&quot;len&quot;</td><td>&quot;Frame Length&quot;</td><td>&quot;Integer Laplace&quot;</td><td>144.0</td><td>431.884579</td><td>4432</td></tr></tbody></table></div>"
      ],
      "text/plain": [
       "shape: (1, 6)\n",
       "┌────────┬──────────────┬─────────────────┬───────┬────────────┬───────────┐\n",
       "│ column ┆ aggregate    ┆ distribution    ┆ scale ┆ accuracy   ┆ threshold │\n",
       "│ ---    ┆ ---          ┆ ---             ┆ ---   ┆ ---        ┆ ---       │\n",
       "│ str    ┆ str          ┆ str             ┆ f64   ┆ f64        ┆ u32       │\n",
       "╞════════╪══════════════╪═════════════════╪═══════╪════════════╪═══════════╡\n",
       "│ len    ┆ Frame Length ┆ Integer Laplace ┆ 144.0 ┆ 431.884579 ┆ 4432      │\n",
       "└────────┴──────────────┴─────────────────┴───────┴────────────┴───────────┘"
      ]
     },
     "execution_count": 14,
     "metadata": {},
     "output_type": "execute_result"
    }
   ],
   "source": [
    "query_age_ilostat.summarize(alpha=.05)"
   ]
  },
  {
   "cell_type": "code",
   "execution_count": 15,
   "metadata": {},
   "outputs": [
    {
     "data": {
      "text/html": [
       "<script type=\"esms-options\">{\"shimMode\": true}</script><style>*[data-root-id],\n",
       "*[data-root-id] > * {\n",
       "  box-sizing: border-box;\n",
       "  font-family: var(--jp-ui-font-family);\n",
       "  font-size: var(--jp-ui-font-size1);\n",
       "  color: var(--vscode-editor-foreground, var(--jp-ui-font-color1));\n",
       "}\n",
       "\n",
       "/* Override VSCode background color */\n",
       ".cell-output-ipywidget-background:has(\n",
       "    > .cell-output-ipywidget-background > .lm-Widget > *[data-root-id]\n",
       "  ),\n",
       ".cell-output-ipywidget-background:has(> .lm-Widget > *[data-root-id]) {\n",
       "  background-color: transparent !important;\n",
       "}\n",
       "</style>"
      ]
     },
     "metadata": {},
     "output_type": "display_data"
    },
    {
     "data": {
      "application/javascript": "(function(root) {\n  function now() {\n    return new Date();\n  }\n\n  const force = true;\n  const py_version = '3.6.3'.replace('rc', '-rc.').replace('.dev', '-dev.');\n  const reloading = false;\n  const Bokeh = root.Bokeh;\n\n  // Set a timeout for this load but only if we are not already initializing\n  if (typeof (root._bokeh_timeout) === \"undefined\" || (force || !root._bokeh_is_initializing)) {\n    root._bokeh_timeout = Date.now() + 5000;\n    root._bokeh_failed_load = false;\n  }\n\n  function run_callbacks() {\n    try {\n      root._bokeh_onload_callbacks.forEach(function(callback) {\n        if (callback != null)\n          callback();\n      });\n    } finally {\n      delete root._bokeh_onload_callbacks;\n    }\n    console.debug(\"Bokeh: all callbacks have finished\");\n  }\n\n  function load_libs(css_urls, js_urls, js_modules, js_exports, callback) {\n    if (css_urls == null) css_urls = [];\n    if (js_urls == null) js_urls = [];\n    if (js_modules == null) js_modules = [];\n    if (js_exports == null) js_exports = {};\n\n    root._bokeh_onload_callbacks.push(callback);\n\n    if (root._bokeh_is_loading > 0) {\n      // Don't load bokeh if it is still initializing\n      console.debug(\"Bokeh: BokehJS is being loaded, scheduling callback at\", now());\n      return null;\n    } else if (js_urls.length === 0 && js_modules.length === 0 && Object.keys(js_exports).length === 0) {\n      // There is nothing to load\n      run_callbacks();\n      return null;\n    }\n\n    function on_load() {\n      root._bokeh_is_loading--;\n      if (root._bokeh_is_loading === 0) {\n        console.debug(\"Bokeh: all BokehJS libraries/stylesheets loaded\");\n        run_callbacks()\n      }\n    }\n    window._bokeh_on_load = on_load\n\n    function on_error(e) {\n      const src_el = e.srcElement\n      console.error(\"failed to load \" + (src_el.href || src_el.src));\n    }\n\n    const skip = [];\n    if (window.requirejs) {\n      window.requirejs.config({'packages': {}, 'paths': {}, 'shim': {}});\n      root._bokeh_is_loading = css_urls.length + 0;\n    } else {\n      root._bokeh_is_loading = css_urls.length + js_urls.length + js_modules.length + Object.keys(js_exports).length;\n    }\n\n    const existing_stylesheets = []\n    const links = document.getElementsByTagName('link')\n    for (let i = 0; i < links.length; i++) {\n      const link = links[i]\n      if (link.href != null) {\n        existing_stylesheets.push(link.href)\n      }\n    }\n    for (let i = 0; i < css_urls.length; i++) {\n      const url = css_urls[i];\n      const escaped = encodeURI(url)\n      if (existing_stylesheets.indexOf(escaped) !== -1) {\n        on_load()\n        continue;\n      }\n      const element = document.createElement(\"link\");\n      element.onload = on_load;\n      element.onerror = on_error;\n      element.rel = \"stylesheet\";\n      element.type = \"text/css\";\n      element.href = url;\n      console.debug(\"Bokeh: injecting link tag for BokehJS stylesheet: \", url);\n      document.body.appendChild(element);\n    }    var existing_scripts = []\n    const scripts = document.getElementsByTagName('script')\n    for (let i = 0; i < scripts.length; i++) {\n      var script = scripts[i]\n      if (script.src != null) {\n        existing_scripts.push(script.src)\n      }\n    }\n    for (let i = 0; i < js_urls.length; i++) {\n      const url = js_urls[i];\n      const escaped = encodeURI(url)\n      if (skip.indexOf(escaped) !== -1 || existing_scripts.indexOf(escaped) !== -1) {\n        if (!window.requirejs) {\n          on_load();\n        }\n        continue;\n      }\n      const element = document.createElement('script');\n      element.onload = on_load;\n      element.onerror = on_error;\n      element.async = false;\n      element.src = url;\n      console.debug(\"Bokeh: injecting script tag for BokehJS library: \", url);\n      document.head.appendChild(element);\n    }\n    for (let i = 0; i < js_modules.length; i++) {\n      const url = js_modules[i];\n      const escaped = encodeURI(url)\n      if (skip.indexOf(escaped) !== -1 || existing_scripts.indexOf(escaped) !== -1) {\n        if (!window.requirejs) {\n          on_load();\n        }\n        continue;\n      }\n      var element = document.createElement('script');\n      element.onload = on_load;\n      element.onerror = on_error;\n      element.async = false;\n      element.src = url;\n      element.type = \"module\";\n      console.debug(\"Bokeh: injecting script tag for BokehJS library: \", url);\n      document.head.appendChild(element);\n    }\n    for (const name in js_exports) {\n      const url = js_exports[name];\n      const escaped = encodeURI(url)\n      if (skip.indexOf(escaped) >= 0 || root[name] != null) {\n        if (!window.requirejs) {\n          on_load();\n        }\n        continue;\n      }\n      var element = document.createElement('script');\n      element.onerror = on_error;\n      element.async = false;\n      element.type = \"module\";\n      console.debug(\"Bokeh: injecting script tag for BokehJS library: \", url);\n      element.textContent = `\n      import ${name} from \"${url}\"\n      window.${name} = ${name}\n      window._bokeh_on_load()\n      `\n      document.head.appendChild(element);\n    }\n    if (!js_urls.length && !js_modules.length) {\n      on_load()\n    }\n  };\n\n  function inject_raw_css(css) {\n    const element = document.createElement(\"style\");\n    element.appendChild(document.createTextNode(css));\n    document.body.appendChild(element);\n  }\n\n  const js_urls = [\"https://cdn.holoviz.org/panel/1.6.1/dist/bundled/reactiveesm/es-module-shims@^1.10.0/dist/es-module-shims.min.js\", \"https://cdn.bokeh.org/bokeh/release/bokeh-3.6.3.min.js\", \"https://cdn.bokeh.org/bokeh/release/bokeh-gl-3.6.3.min.js\", \"https://cdn.bokeh.org/bokeh/release/bokeh-widgets-3.6.3.min.js\", \"https://cdn.bokeh.org/bokeh/release/bokeh-tables-3.6.3.min.js\", \"https://cdn.holoviz.org/panel/1.6.1/dist/panel.min.js\"];\n  const js_modules = [];\n  const js_exports = {};\n  const css_urls = [];\n  const inline_js = [    function(Bokeh) {\n      Bokeh.set_log_level(\"info\");\n    },\nfunction(Bokeh) {} // ensure no trailing comma for IE\n  ];\n\n  function run_inline_js() {\n    if ((root.Bokeh !== undefined) || (force === true)) {\n      for (let i = 0; i < inline_js.length; i++) {\n        try {\n          inline_js[i].call(root, root.Bokeh);\n        } catch(e) {\n          if (!reloading) {\n            throw e;\n          }\n        }\n      }\n      // Cache old bokeh versions\n      if (Bokeh != undefined && !reloading) {\n        var NewBokeh = root.Bokeh;\n        if (Bokeh.versions === undefined) {\n          Bokeh.versions = new Map();\n        }\n        if (NewBokeh.version !== Bokeh.version) {\n          Bokeh.versions.set(NewBokeh.version, NewBokeh)\n        }\n        root.Bokeh = Bokeh;\n      }\n    } else if (Date.now() < root._bokeh_timeout) {\n      setTimeout(run_inline_js, 100);\n    } else if (!root._bokeh_failed_load) {\n      console.log(\"Bokeh: BokehJS failed to load within specified timeout.\");\n      root._bokeh_failed_load = true;\n    }\n    root._bokeh_is_initializing = false\n  }\n\n  function load_or_wait() {\n    // Implement a backoff loop that tries to ensure we do not load multiple\n    // versions of Bokeh and its dependencies at the same time.\n    // In recent versions we use the root._bokeh_is_initializing flag\n    // to determine whether there is an ongoing attempt to initialize\n    // bokeh, however for backward compatibility we also try to ensure\n    // that we do not start loading a newer (Panel>=1.0 and Bokeh>3) version\n    // before older versions are fully initialized.\n    if (root._bokeh_is_initializing && Date.now() > root._bokeh_timeout) {\n      // If the timeout and bokeh was not successfully loaded we reset\n      // everything and try loading again\n      root._bokeh_timeout = Date.now() + 5000;\n      root._bokeh_is_initializing = false;\n      root._bokeh_onload_callbacks = undefined;\n      root._bokeh_is_loading = 0\n      console.log(\"Bokeh: BokehJS was loaded multiple times but one version failed to initialize.\");\n      load_or_wait();\n    } else if (root._bokeh_is_initializing || (typeof root._bokeh_is_initializing === \"undefined\" && root._bokeh_onload_callbacks !== undefined)) {\n      setTimeout(load_or_wait, 100);\n    } else {\n      root._bokeh_is_initializing = true\n      root._bokeh_onload_callbacks = []\n      const bokeh_loaded = root.Bokeh != null && (root.Bokeh.version === py_version || (root.Bokeh.versions !== undefined && root.Bokeh.versions.has(py_version)));\n      if (!reloading && !bokeh_loaded) {\n        if (root.Bokeh) {\n          root.Bokeh = undefined;\n        }\n        console.debug(\"Bokeh: BokehJS not loaded, scheduling load and callback at\", now());\n      }\n      load_libs(css_urls, js_urls, js_modules, js_exports, function() {\n        console.debug(\"Bokeh: BokehJS plotting callback run at\", now());\n        run_inline_js();\n      });\n    }\n  }\n  // Give older versions of the autoload script a head-start to ensure\n  // they initialize before we start loading newer version.\n  setTimeout(load_or_wait, 100)\n}(window));",
      "application/vnd.holoviews_load.v0+json": ""
     },
     "metadata": {},
     "output_type": "display_data"
    },
    {
     "data": {
      "application/javascript": "\nif ((window.PyViz === undefined) || (window.PyViz instanceof HTMLElement)) {\n  window.PyViz = {comms: {}, comm_status:{}, kernels:{}, receivers: {}, plot_index: []}\n}\n\n\n    function JupyterCommManager() {\n    }\n\n    JupyterCommManager.prototype.register_target = function(plot_id, comm_id, msg_handler) {\n      if (window.comm_manager || ((window.Jupyter !== undefined) && (Jupyter.notebook.kernel != null))) {\n        var comm_manager = window.comm_manager || Jupyter.notebook.kernel.comm_manager;\n        comm_manager.register_target(comm_id, function(comm) {\n          comm.on_msg(msg_handler);\n        });\n      } else if ((plot_id in window.PyViz.kernels) && (window.PyViz.kernels[plot_id])) {\n        window.PyViz.kernels[plot_id].registerCommTarget(comm_id, function(comm) {\n          comm.onMsg = msg_handler;\n        });\n      } else if (typeof google != 'undefined' && google.colab.kernel != null) {\n        google.colab.kernel.comms.registerTarget(comm_id, (comm) => {\n          var messages = comm.messages[Symbol.asyncIterator]();\n          function processIteratorResult(result) {\n            var message = result.value;\n            console.log(message)\n            var content = {data: message.data, comm_id};\n            var buffers = []\n            for (var buffer of message.buffers || []) {\n              buffers.push(new DataView(buffer))\n            }\n            var metadata = message.metadata || {};\n            var msg = {content, buffers, metadata}\n            msg_handler(msg);\n            return messages.next().then(processIteratorResult);\n          }\n          return messages.next().then(processIteratorResult);\n        })\n      }\n    }\n\n    JupyterCommManager.prototype.get_client_comm = function(plot_id, comm_id, msg_handler) {\n      if (comm_id in window.PyViz.comms) {\n        return window.PyViz.comms[comm_id];\n      } else if (window.comm_manager || ((window.Jupyter !== undefined) && (Jupyter.notebook.kernel != null))) {\n        var comm_manager = window.comm_manager || Jupyter.notebook.kernel.comm_manager;\n        var comm = comm_manager.new_comm(comm_id, {}, {}, {}, comm_id);\n        if (msg_handler) {\n          comm.on_msg(msg_handler);\n        }\n      } else if ((plot_id in window.PyViz.kernels) && (window.PyViz.kernels[plot_id])) {\n        var comm = window.PyViz.kernels[plot_id].connectToComm(comm_id);\n        comm.open();\n        if (msg_handler) {\n          comm.onMsg = msg_handler;\n        }\n      } else if (typeof google != 'undefined' && google.colab.kernel != null) {\n        var comm_promise = google.colab.kernel.comms.open(comm_id)\n        comm_promise.then((comm) => {\n          window.PyViz.comms[comm_id] = comm;\n          if (msg_handler) {\n            var messages = comm.messages[Symbol.asyncIterator]();\n            function processIteratorResult(result) {\n              var message = result.value;\n              var content = {data: message.data};\n              var metadata = message.metadata || {comm_id};\n              var msg = {content, metadata}\n              msg_handler(msg);\n              return messages.next().then(processIteratorResult);\n            }\n            return messages.next().then(processIteratorResult);\n          }\n        })\n        var sendClosure = (data, metadata, buffers, disposeOnDone) => {\n          return comm_promise.then((comm) => {\n            comm.send(data, metadata, buffers, disposeOnDone);\n          });\n        };\n        var comm = {\n          send: sendClosure\n        };\n      }\n      window.PyViz.comms[comm_id] = comm;\n      return comm;\n    }\n    window.PyViz.comm_manager = new JupyterCommManager();\n    \n\n\nvar JS_MIME_TYPE = 'application/javascript';\nvar HTML_MIME_TYPE = 'text/html';\nvar EXEC_MIME_TYPE = 'application/vnd.holoviews_exec.v0+json';\nvar CLASS_NAME = 'output';\n\n/**\n * Render data to the DOM node\n */\nfunction render(props, node) {\n  var div = document.createElement(\"div\");\n  var script = document.createElement(\"script\");\n  node.appendChild(div);\n  node.appendChild(script);\n}\n\n/**\n * Handle when a new output is added\n */\nfunction handle_add_output(event, handle) {\n  var output_area = handle.output_area;\n  var output = handle.output;\n  if ((output.data == undefined) || (!output.data.hasOwnProperty(EXEC_MIME_TYPE))) {\n    return\n  }\n  var id = output.metadata[EXEC_MIME_TYPE][\"id\"];\n  var toinsert = output_area.element.find(\".\" + CLASS_NAME.split(' ')[0]);\n  if (id !== undefined) {\n    var nchildren = toinsert.length;\n    var html_node = toinsert[nchildren-1].children[0];\n    html_node.innerHTML = output.data[HTML_MIME_TYPE];\n    var scripts = [];\n    var nodelist = html_node.querySelectorAll(\"script\");\n    for (var i in nodelist) {\n      if (nodelist.hasOwnProperty(i)) {\n        scripts.push(nodelist[i])\n      }\n    }\n\n    scripts.forEach( function (oldScript) {\n      var newScript = document.createElement(\"script\");\n      var attrs = [];\n      var nodemap = oldScript.attributes;\n      for (var j in nodemap) {\n        if (nodemap.hasOwnProperty(j)) {\n          attrs.push(nodemap[j])\n        }\n      }\n      attrs.forEach(function(attr) { newScript.setAttribute(attr.name, attr.value) });\n      newScript.appendChild(document.createTextNode(oldScript.innerHTML));\n      oldScript.parentNode.replaceChild(newScript, oldScript);\n    });\n    if (JS_MIME_TYPE in output.data) {\n      toinsert[nchildren-1].children[1].textContent = output.data[JS_MIME_TYPE];\n    }\n    output_area._hv_plot_id = id;\n    if ((window.Bokeh !== undefined) && (id in Bokeh.index)) {\n      window.PyViz.plot_index[id] = Bokeh.index[id];\n    } else {\n      window.PyViz.plot_index[id] = null;\n    }\n  } else if (output.metadata[EXEC_MIME_TYPE][\"server_id\"] !== undefined) {\n    var bk_div = document.createElement(\"div\");\n    bk_div.innerHTML = output.data[HTML_MIME_TYPE];\n    var script_attrs = bk_div.children[0].attributes;\n    for (var i = 0; i < script_attrs.length; i++) {\n      toinsert[toinsert.length - 1].childNodes[1].setAttribute(script_attrs[i].name, script_attrs[i].value);\n    }\n    // store reference to server id on output_area\n    output_area._bokeh_server_id = output.metadata[EXEC_MIME_TYPE][\"server_id\"];\n  }\n}\n\n/**\n * Handle when an output is cleared or removed\n */\nfunction handle_clear_output(event, handle) {\n  var id = handle.cell.output_area._hv_plot_id;\n  var server_id = handle.cell.output_area._bokeh_server_id;\n  if (((id === undefined) || !(id in PyViz.plot_index)) && (server_id !== undefined)) { return; }\n  var comm = window.PyViz.comm_manager.get_client_comm(\"hv-extension-comm\", \"hv-extension-comm\", function () {});\n  if (server_id !== null) {\n    comm.send({event_type: 'server_delete', 'id': server_id});\n    return;\n  } else if (comm !== null) {\n    comm.send({event_type: 'delete', 'id': id});\n  }\n  delete PyViz.plot_index[id];\n  if ((window.Bokeh !== undefined) & (id in window.Bokeh.index)) {\n    var doc = window.Bokeh.index[id].model.document\n    doc.clear();\n    const i = window.Bokeh.documents.indexOf(doc);\n    if (i > -1) {\n      window.Bokeh.documents.splice(i, 1);\n    }\n  }\n}\n\n/**\n * Handle kernel restart event\n */\nfunction handle_kernel_cleanup(event, handle) {\n  delete PyViz.comms[\"hv-extension-comm\"];\n  window.PyViz.plot_index = {}\n}\n\n/**\n * Handle update_display_data messages\n */\nfunction handle_update_output(event, handle) {\n  handle_clear_output(event, {cell: {output_area: handle.output_area}})\n  handle_add_output(event, handle)\n}\n\nfunction register_renderer(events, OutputArea) {\n  function append_mime(data, metadata, element) {\n    // create a DOM node to render to\n    var toinsert = this.create_output_subarea(\n    metadata,\n    CLASS_NAME,\n    EXEC_MIME_TYPE\n    );\n    this.keyboard_manager.register_events(toinsert);\n    // Render to node\n    var props = {data: data, metadata: metadata[EXEC_MIME_TYPE]};\n    render(props, toinsert[0]);\n    element.append(toinsert);\n    return toinsert\n  }\n\n  events.on('output_added.OutputArea', handle_add_output);\n  events.on('output_updated.OutputArea', handle_update_output);\n  events.on('clear_output.CodeCell', handle_clear_output);\n  events.on('delete.Cell', handle_clear_output);\n  events.on('kernel_ready.Kernel', handle_kernel_cleanup);\n\n  OutputArea.prototype.register_mime_type(EXEC_MIME_TYPE, append_mime, {\n    safe: true,\n    index: 0\n  });\n}\n\nif (window.Jupyter !== undefined) {\n  try {\n    var events = require('base/js/events');\n    var OutputArea = require('notebook/js/outputarea').OutputArea;\n    if (OutputArea.prototype.mime_types().indexOf(EXEC_MIME_TYPE) == -1) {\n      register_renderer(events, OutputArea);\n    }\n  } catch(err) {\n  }\n}\n",
      "application/vnd.holoviews_load.v0+json": ""
     },
     "metadata": {},
     "output_type": "display_data"
    },
    {
     "data": {
      "application/vnd.holoviews_exec.v0+json": "",
      "text/html": [
       "<div id='7e13abbe-fa8f-41fe-b7cc-6c5c8018cd91'>\n",
       "  <div id=\"da60c9b4-f84a-40ed-8fd5-4623839791fd\" data-root-id=\"7e13abbe-fa8f-41fe-b7cc-6c5c8018cd91\" style=\"display: contents;\"></div>\n",
       "</div>\n",
       "<script type=\"application/javascript\">(function(root) {\n",
       "  var docs_json = {\"e5c29f14-86fb-4d40-bdae-d1d3fbfa63c5\":{\"version\":\"3.6.3\",\"title\":\"Bokeh Application\",\"roots\":[{\"type\":\"object\",\"name\":\"panel.models.browser.BrowserInfo\",\"id\":\"7e13abbe-fa8f-41fe-b7cc-6c5c8018cd91\"},{\"type\":\"object\",\"name\":\"panel.models.comm_manager.CommManager\",\"id\":\"f3dff782-e2f0-47ae-89fc-297e1216711e\",\"attributes\":{\"plot_id\":\"7e13abbe-fa8f-41fe-b7cc-6c5c8018cd91\",\"comm_id\":\"b2b4962ecc344e129d6d4de2dbdfc4f2\",\"client_comm_id\":\"6e25d543d92e4d2ebf39d92d7ed4d0f5\"}}],\"defs\":[{\"type\":\"model\",\"name\":\"ReactiveHTML1\"},{\"type\":\"model\",\"name\":\"FlexBox1\",\"properties\":[{\"name\":\"align_content\",\"kind\":\"Any\",\"default\":\"flex-start\"},{\"name\":\"align_items\",\"kind\":\"Any\",\"default\":\"flex-start\"},{\"name\":\"flex_direction\",\"kind\":\"Any\",\"default\":\"row\"},{\"name\":\"flex_wrap\",\"kind\":\"Any\",\"default\":\"wrap\"},{\"name\":\"gap\",\"kind\":\"Any\",\"default\":\"\"},{\"name\":\"justify_content\",\"kind\":\"Any\",\"default\":\"flex-start\"}]},{\"type\":\"model\",\"name\":\"FloatPanel1\",\"properties\":[{\"name\":\"config\",\"kind\":\"Any\",\"default\":{\"type\":\"map\"}},{\"name\":\"contained\",\"kind\":\"Any\",\"default\":true},{\"name\":\"position\",\"kind\":\"Any\",\"default\":\"right-top\"},{\"name\":\"offsetx\",\"kind\":\"Any\",\"default\":null},{\"name\":\"offsety\",\"kind\":\"Any\",\"default\":null},{\"name\":\"theme\",\"kind\":\"Any\",\"default\":\"primary\"},{\"name\":\"status\",\"kind\":\"Any\",\"default\":\"normalized\"}]},{\"type\":\"model\",\"name\":\"GridStack1\",\"properties\":[{\"name\":\"mode\",\"kind\":\"Any\",\"default\":\"warn\"},{\"name\":\"ncols\",\"kind\":\"Any\",\"default\":null},{\"name\":\"nrows\",\"kind\":\"Any\",\"default\":null},{\"name\":\"allow_resize\",\"kind\":\"Any\",\"default\":true},{\"name\":\"allow_drag\",\"kind\":\"Any\",\"default\":true},{\"name\":\"state\",\"kind\":\"Any\",\"default\":[]}]},{\"type\":\"model\",\"name\":\"drag1\",\"properties\":[{\"name\":\"slider_width\",\"kind\":\"Any\",\"default\":5},{\"name\":\"slider_color\",\"kind\":\"Any\",\"default\":\"black\"},{\"name\":\"value\",\"kind\":\"Any\",\"default\":50}]},{\"type\":\"model\",\"name\":\"click1\",\"properties\":[{\"name\":\"terminal_output\",\"kind\":\"Any\",\"default\":\"\"},{\"name\":\"debug_name\",\"kind\":\"Any\",\"default\":\"\"},{\"name\":\"clears\",\"kind\":\"Any\",\"default\":0}]},{\"type\":\"model\",\"name\":\"FastWrapper1\",\"properties\":[{\"name\":\"object\",\"kind\":\"Any\",\"default\":null},{\"name\":\"style\",\"kind\":\"Any\",\"default\":null}]},{\"type\":\"model\",\"name\":\"NotificationAreaBase1\",\"properties\":[{\"name\":\"js_events\",\"kind\":\"Any\",\"default\":{\"type\":\"map\"}},{\"name\":\"position\",\"kind\":\"Any\",\"default\":\"bottom-right\"},{\"name\":\"_clear\",\"kind\":\"Any\",\"default\":0}]},{\"type\":\"model\",\"name\":\"NotificationArea1\",\"properties\":[{\"name\":\"js_events\",\"kind\":\"Any\",\"default\":{\"type\":\"map\"}},{\"name\":\"notifications\",\"kind\":\"Any\",\"default\":[]},{\"name\":\"position\",\"kind\":\"Any\",\"default\":\"bottom-right\"},{\"name\":\"_clear\",\"kind\":\"Any\",\"default\":0},{\"name\":\"types\",\"kind\":\"Any\",\"default\":[{\"type\":\"map\",\"entries\":[[\"type\",\"warning\"],[\"background\",\"#ffc107\"],[\"icon\",{\"type\":\"map\",\"entries\":[[\"className\",\"fas fa-exclamation-triangle\"],[\"tagName\",\"i\"],[\"color\",\"white\"]]}]]},{\"type\":\"map\",\"entries\":[[\"type\",\"info\"],[\"background\",\"#007bff\"],[\"icon\",{\"type\":\"map\",\"entries\":[[\"className\",\"fas fa-info-circle\"],[\"tagName\",\"i\"],[\"color\",\"white\"]]}]]}]}]},{\"type\":\"model\",\"name\":\"Notification\",\"properties\":[{\"name\":\"background\",\"kind\":\"Any\",\"default\":null},{\"name\":\"duration\",\"kind\":\"Any\",\"default\":3000},{\"name\":\"icon\",\"kind\":\"Any\",\"default\":null},{\"name\":\"message\",\"kind\":\"Any\",\"default\":\"\"},{\"name\":\"notification_type\",\"kind\":\"Any\",\"default\":null},{\"name\":\"_rendered\",\"kind\":\"Any\",\"default\":false},{\"name\":\"_destroyed\",\"kind\":\"Any\",\"default\":false}]},{\"type\":\"model\",\"name\":\"TemplateActions1\",\"properties\":[{\"name\":\"open_modal\",\"kind\":\"Any\",\"default\":0},{\"name\":\"close_modal\",\"kind\":\"Any\",\"default\":0}]},{\"type\":\"model\",\"name\":\"BootstrapTemplateActions1\",\"properties\":[{\"name\":\"open_modal\",\"kind\":\"Any\",\"default\":0},{\"name\":\"close_modal\",\"kind\":\"Any\",\"default\":0}]},{\"type\":\"model\",\"name\":\"TemplateEditor1\",\"properties\":[{\"name\":\"layout\",\"kind\":\"Any\",\"default\":[]}]},{\"type\":\"model\",\"name\":\"MaterialTemplateActions1\",\"properties\":[{\"name\":\"open_modal\",\"kind\":\"Any\",\"default\":0},{\"name\":\"close_modal\",\"kind\":\"Any\",\"default\":0}]},{\"type\":\"model\",\"name\":\"ReactiveESM1\",\"properties\":[{\"name\":\"esm_constants\",\"kind\":\"Any\",\"default\":{\"type\":\"map\"}}]},{\"type\":\"model\",\"name\":\"JSComponent1\",\"properties\":[{\"name\":\"esm_constants\",\"kind\":\"Any\",\"default\":{\"type\":\"map\"}}]},{\"type\":\"model\",\"name\":\"ReactComponent1\",\"properties\":[{\"name\":\"esm_constants\",\"kind\":\"Any\",\"default\":{\"type\":\"map\"}}]},{\"type\":\"model\",\"name\":\"AnyWidgetComponent1\",\"properties\":[{\"name\":\"esm_constants\",\"kind\":\"Any\",\"default\":{\"type\":\"map\"}}]},{\"type\":\"model\",\"name\":\"request_value1\",\"properties\":[{\"name\":\"fill\",\"kind\":\"Any\",\"default\":\"none\"},{\"name\":\"_synced\",\"kind\":\"Any\",\"default\":null},{\"name\":\"_request_sync\",\"kind\":\"Any\",\"default\":0}]}]}};\n",
       "  var render_items = [{\"docid\":\"e5c29f14-86fb-4d40-bdae-d1d3fbfa63c5\",\"roots\":{\"7e13abbe-fa8f-41fe-b7cc-6c5c8018cd91\":\"da60c9b4-f84a-40ed-8fd5-4623839791fd\"},\"root_ids\":[\"7e13abbe-fa8f-41fe-b7cc-6c5c8018cd91\"]}];\n",
       "  var docs = Object.values(docs_json)\n",
       "  if (!docs) {\n",
       "    return\n",
       "  }\n",
       "  const py_version = docs[0].version.replace('rc', '-rc.').replace('.dev', '-dev.')\n",
       "  async function embed_document(root) {\n",
       "    var Bokeh = get_bokeh(root)\n",
       "    await Bokeh.embed.embed_items_notebook(docs_json, render_items);\n",
       "    for (const render_item of render_items) {\n",
       "      for (const root_id of render_item.root_ids) {\n",
       "\tconst id_el = document.getElementById(root_id)\n",
       "\tif (id_el.children.length && id_el.children[0].hasAttribute('data-root-id')) {\n",
       "\t  const root_el = id_el.children[0]\n",
       "\t  root_el.id = root_el.id + '-rendered'\n",
       "\t  for (const child of root_el.children) {\n",
       "            // Ensure JupyterLab does not capture keyboard shortcuts\n",
       "            // see: https://jupyterlab.readthedocs.io/en/4.1.x/extension/notebook.html#keyboard-interaction-model\n",
       "\t    child.setAttribute('data-lm-suppress-shortcuts', 'true')\n",
       "\t  }\n",
       "\t}\n",
       "      }\n",
       "    }\n",
       "  }\n",
       "  function get_bokeh(root) {\n",
       "    if (root.Bokeh === undefined) {\n",
       "      return null\n",
       "    } else if (root.Bokeh.version !== py_version) {\n",
       "      if (root.Bokeh.versions === undefined || !root.Bokeh.versions.has(py_version)) {\n",
       "\treturn null\n",
       "      }\n",
       "      return root.Bokeh.versions.get(py_version);\n",
       "    } else if (root.Bokeh.version === py_version) {\n",
       "      return root.Bokeh\n",
       "    }\n",
       "    return null\n",
       "  }\n",
       "  function is_loaded(root) {\n",
       "    var Bokeh = get_bokeh(root)\n",
       "    return (Bokeh != null && Bokeh.Panel !== undefined)\n",
       "  }\n",
       "  if (is_loaded(root)) {\n",
       "    embed_document(root);\n",
       "  } else {\n",
       "    var attempts = 0;\n",
       "    var timer = setInterval(function(root) {\n",
       "      if (is_loaded(root)) {\n",
       "        clearInterval(timer);\n",
       "        embed_document(root);\n",
       "      } else if (document.readyState == \"complete\") {\n",
       "        attempts++;\n",
       "        if (attempts > 200) {\n",
       "          clearInterval(timer);\n",
       "\t  var Bokeh = get_bokeh(root)\n",
       "\t  if (Bokeh == null || Bokeh.Panel == null) {\n",
       "            console.warn(\"Panel: ERROR: Unable to run Panel code because Bokeh or Panel library is missing\");\n",
       "\t  } else {\n",
       "\t    console.warn(\"Panel: WARNING: Attempting to render but not all required libraries could be resolved.\")\n",
       "\t    embed_document(root)\n",
       "\t  }\n",
       "        }\n",
       "      }\n",
       "    }, 25, root)\n",
       "  }\n",
       "})(window);</script>"
      ]
     },
     "metadata": {
      "application/vnd.holoviews_exec.v0+json": {
       "id": "7e13abbe-fa8f-41fe-b7cc-6c5c8018cd91"
      }
     },
     "output_type": "display_data"
    },
    {
     "data": {},
     "metadata": {},
     "output_type": "display_data"
    },
    {
     "data": {
      "application/vnd.holoviews_exec.v0+json": "",
      "text/html": [
       "<div id='ed32c811-a764-42bf-8349-ce0ab1a90171'>\n",
       "  <div id=\"bc180ad5-ec24-4442-8811-691eb439ca10\" data-root-id=\"ed32c811-a764-42bf-8349-ce0ab1a90171\" style=\"display: contents;\"></div>\n",
       "</div>\n",
       "<script type=\"application/javascript\">(function(root) {\n",
       "  var docs_json = {\"80a6bed4-76fc-45eb-a940-382c150bfee3\":{\"version\":\"3.6.3\",\"title\":\"Bokeh Application\",\"roots\":[{\"type\":\"object\",\"name\":\"Row\",\"id\":\"ed32c811-a764-42bf-8349-ce0ab1a90171\",\"attributes\":{\"name\":\"Row00345\",\"tags\":[\"embedded\"],\"stylesheets\":[\"\\n:host(.pn-loading):before, .pn-loading:before {\\n  background-color: #c3c3c3;\\n  mask-size: auto calc(min(50%, 400px));\\n  -webkit-mask-size: auto calc(min(50%, 400px));\\n}\",{\"type\":\"object\",\"name\":\"ImportedStyleSheet\",\"id\":\"54884c5c-9407-48a0-8215-76b6a81059cb\",\"attributes\":{\"url\":\"https://cdn.holoviz.org/panel/1.6.1/dist/css/loading.css\"}},{\"type\":\"object\",\"name\":\"ImportedStyleSheet\",\"id\":\"f6a1d690-1294-479f-b68a-c8398f2c0ce2\",\"attributes\":{\"url\":\"https://cdn.holoviz.org/panel/1.6.1/dist/css/listpanel.css\"}},{\"type\":\"object\",\"name\":\"ImportedStyleSheet\",\"id\":\"f7b97843-36ca-431a-a3cc-4c9aa08fa14f\",\"attributes\":{\"url\":\"https://cdn.holoviz.org/panel/1.6.1/dist/bundled/theme/default.css\"}},{\"type\":\"object\",\"name\":\"ImportedStyleSheet\",\"id\":\"a59fa319-4e1c-4773-8776-39fda518f478\",\"attributes\":{\"url\":\"https://cdn.holoviz.org/panel/1.6.1/dist/bundled/theme/native.css\"}}],\"min_width\":700,\"margin\":0,\"sizing_mode\":\"stretch_width\",\"align\":\"start\",\"children\":[{\"type\":\"object\",\"name\":\"Spacer\",\"id\":\"cb3024b7-f9b3-483e-a7b9-5adb5711038d\",\"attributes\":{\"name\":\"HSpacer00349\",\"stylesheets\":[\"\\n:host(.pn-loading):before, .pn-loading:before {\\n  background-color: #c3c3c3;\\n  mask-size: auto calc(min(50%, 400px));\\n  -webkit-mask-size: auto calc(min(50%, 400px));\\n}\",{\"id\":\"54884c5c-9407-48a0-8215-76b6a81059cb\"},{\"id\":\"f7b97843-36ca-431a-a3cc-4c9aa08fa14f\"},{\"id\":\"a59fa319-4e1c-4773-8776-39fda518f478\"}],\"margin\":0,\"sizing_mode\":\"stretch_width\",\"align\":\"start\"}},{\"type\":\"object\",\"name\":\"Figure\",\"id\":\"343fa330-5723-4e98-8f1d-cec0c5a4bbe5\",\"attributes\":{\"width\":700,\"height\":300,\"margin\":[5,10],\"sizing_mode\":\"fixed\",\"align\":\"start\",\"x_range\":{\"type\":\"object\",\"name\":\"Range1d\",\"id\":\"febcec89-c51a-4505-86d5-decb8a789a44\",\"attributes\":{\"name\":\"AGE\",\"tags\":[[[\"AGE\",null]],[]],\"start\":7.0,\"end\":75.0,\"reset_start\":7.0,\"reset_end\":75.0}},\"y_range\":{\"type\":\"object\",\"name\":\"Range1d\",\"id\":\"67c8c367-76bb-45cc-b46f-3f52678c5b28\",\"attributes\":{\"name\":\"len\",\"tags\":[[[\"len\",null]],{\"type\":\"map\",\"entries\":[[\"invert_yaxis\",false],[\"autorange\",false]]}],\"start\":1850.3999999999996,\"end\":39225.6,\"reset_start\":1850.3999999999996,\"reset_end\":39225.6}},\"x_scale\":{\"type\":\"object\",\"name\":\"LinearScale\",\"id\":\"25bccd78-8121-46b7-8858-8654ec3d90f1\"},\"y_scale\":{\"type\":\"object\",\"name\":\"LinearScale\",\"id\":\"234ebd95-8142-4e4e-afde-787f8a1ca8e5\"},\"title\":{\"type\":\"object\",\"name\":\"Title\",\"id\":\"151d0450-8d35-4d88-b0ef-7f8c46bd89d5\",\"attributes\":{\"text_color\":\"black\",\"text_font_size\":\"12pt\"}},\"renderers\":[{\"type\":\"object\",\"name\":\"GlyphRenderer\",\"id\":\"37782347-758a-4a79-9f4a-dd574107e37a\",\"attributes\":{\"name\":\"9\",\"data_source\":{\"type\":\"object\",\"name\":\"ColumnDataSource\",\"id\":\"5687f2b8-eb2d-42c2-9e8c-5690534908ee\",\"attributes\":{\"selected\":{\"type\":\"object\",\"name\":\"Selection\",\"id\":\"b249855e-bd3f-42d5-92f5-205c9c242487\",\"attributes\":{\"indices\":[],\"line_indices\":[]}},\"selection_policy\":{\"type\":\"object\",\"name\":\"UnionRenderers\",\"id\":\"a1d32c81-4444-4113-926f-812524fd8f0c\"},\"data\":{\"type\":\"map\",\"entries\":[[\"AGE\",{\"type\":\"ndarray\",\"array\":{\"type\":\"bytes\",\"data\":\"AAAAAAAAHEA=\"},\"shape\":[1],\"dtype\":\"float64\",\"order\":\"little\"}],[\"len\",{\"type\":\"ndarray\",\"array\":{\"type\":\"bytes\",\"data\":\"D40AAA==\"},\"shape\":[1],\"dtype\":\"uint32\",\"order\":\"little\"}],[\"ILOSTAT\",[9]]]}}},\"view\":{\"type\":\"object\",\"name\":\"CDSView\",\"id\":\"9b174c58-573a-4568-aaaf-9b840005ef95\",\"attributes\":{\"filter\":{\"type\":\"object\",\"name\":\"AllIndices\",\"id\":\"a8c637bd-3199-4e8f-b915-b13b1afd8b5c\"}}},\"glyph\":{\"type\":\"object\",\"name\":\"Line\",\"id\":\"4751181f-957b-4eab-b62a-1fcac29a9f6f\",\"attributes\":{\"tags\":[\"apply_ranges\"],\"x\":{\"type\":\"field\",\"field\":\"AGE\"},\"y\":{\"type\":\"field\",\"field\":\"len\"},\"line_color\":\"#30a2da\",\"line_width\":2}},\"selection_glyph\":{\"type\":\"object\",\"name\":\"Line\",\"id\":\"62b26efb-47f8-4f08-8696-4e8d238dd49e\",\"attributes\":{\"tags\":[\"apply_ranges\"],\"x\":{\"type\":\"field\",\"field\":\"AGE\"},\"y\":{\"type\":\"field\",\"field\":\"len\"},\"line_color\":\"#30a2da\",\"line_width\":2}},\"nonselection_glyph\":{\"type\":\"object\",\"name\":\"Line\",\"id\":\"b0742625-7b03-48c8-ac6d-07004ab69e58\",\"attributes\":{\"tags\":[\"apply_ranges\"],\"x\":{\"type\":\"field\",\"field\":\"AGE\"},\"y\":{\"type\":\"field\",\"field\":\"len\"},\"line_color\":\"#30a2da\",\"line_alpha\":0.1,\"line_width\":2}},\"muted_glyph\":{\"type\":\"object\",\"name\":\"Line\",\"id\":\"d43cf3fc-7d40-4b34-b287-84a1330e7150\",\"attributes\":{\"tags\":[\"apply_ranges\"],\"x\":{\"type\":\"field\",\"field\":\"AGE\"},\"y\":{\"type\":\"field\",\"field\":\"len\"},\"line_color\":\"#30a2da\",\"line_alpha\":0.2,\"line_width\":2}}}},{\"type\":\"object\",\"name\":\"GlyphRenderer\",\"id\":\"d5cd88a1-e5d1-4546-a4d0-4974085aac02\",\"attributes\":{\"name\":\"3\",\"data_source\":{\"type\":\"object\",\"name\":\"ColumnDataSource\",\"id\":\"4b9d65c5-3515-481e-b857-7b913131ca06\",\"attributes\":{\"selected\":{\"type\":\"object\",\"name\":\"Selection\",\"id\":\"4ccfd101-f0ba-4838-a419-72911c21260d\",\"attributes\":{\"indices\":[],\"line_indices\":[]}},\"selection_policy\":{\"type\":\"object\",\"name\":\"UnionRenderers\",\"id\":\"cbe4f072-488e-4c00-bd31-f46364667b24\"},\"data\":{\"type\":\"map\",\"entries\":[[\"AGE\",{\"type\":\"ndarray\",\"array\":{\"type\":\"bytes\",\"data\":\"AAAAAAAANEAAAAAAAIBHQAAAAAAAQFBAAAAAAADAUkA=\"},\"shape\":[4],\"dtype\":\"float64\",\"order\":\"little\"}],[\"len\",{\"type\":\"ndarray\",\"array\":{\"type\":\"bytes\",\"data\":\"JTwAAGUTAABkfgAASkcAAA==\"},\"shape\":[4],\"dtype\":\"uint32\",\"order\":\"little\"}],[\"ILOSTAT\",[3,3,3,3]]]}}},\"view\":{\"type\":\"object\",\"name\":\"CDSView\",\"id\":\"0deba402-2fb9-4229-9901-261592a84cd8\",\"attributes\":{\"filter\":{\"type\":\"object\",\"name\":\"AllIndices\",\"id\":\"e5cffca6-aa34-4e8d-b4ce-4c56db90dc45\"}}},\"glyph\":{\"type\":\"object\",\"name\":\"Line\",\"id\":\"98e5aafc-c5cc-4f2b-b0b0-b3d233acb7c2\",\"attributes\":{\"tags\":[\"apply_ranges\"],\"x\":{\"type\":\"field\",\"field\":\"AGE\"},\"y\":{\"type\":\"field\",\"field\":\"len\"},\"line_color\":\"#fc4f30\",\"line_width\":2}},\"selection_glyph\":{\"type\":\"object\",\"name\":\"Line\",\"id\":\"b0d7d58e-3ce4-44e8-80be-da37772d8a59\",\"attributes\":{\"tags\":[\"apply_ranges\"],\"x\":{\"type\":\"field\",\"field\":\"AGE\"},\"y\":{\"type\":\"field\",\"field\":\"len\"},\"line_color\":\"#fc4f30\",\"line_width\":2}},\"nonselection_glyph\":{\"type\":\"object\",\"name\":\"Line\",\"id\":\"c33b20cd-0f7b-4519-bd53-78248e85b028\",\"attributes\":{\"tags\":[\"apply_ranges\"],\"x\":{\"type\":\"field\",\"field\":\"AGE\"},\"y\":{\"type\":\"field\",\"field\":\"len\"},\"line_color\":\"#fc4f30\",\"line_alpha\":0.1,\"line_width\":2}},\"muted_glyph\":{\"type\":\"object\",\"name\":\"Line\",\"id\":\"2466248e-2166-46ce-90c9-f55f18780bbb\",\"attributes\":{\"tags\":[\"apply_ranges\"],\"x\":{\"type\":\"field\",\"field\":\"AGE\"},\"y\":{\"type\":\"field\",\"field\":\"len\"},\"line_color\":\"#fc4f30\",\"line_alpha\":0.2,\"line_width\":2}}}},{\"type\":\"object\",\"name\":\"GlyphRenderer\",\"id\":\"7cabbb24-62a6-47de-9c79-5c6cc316b358\",\"attributes\":{\"name\":\"1\",\"data_source\":{\"type\":\"object\",\"name\":\"ColumnDataSource\",\"id\":\"6b393df0-9c2e-485e-8025-d31d4c16af1f\",\"attributes\":{\"selected\":{\"type\":\"object\",\"name\":\"Selection\",\"id\":\"0e8712a3-807d-4919-ab9f-25976907c6c6\",\"attributes\":{\"indices\":[],\"line_indices\":[]}},\"selection_policy\":{\"type\":\"object\",\"name\":\"UnionRenderers\",\"id\":\"019c5bae-a5b4-4fe9-9bb0-771ea34bd064\"},\"data\":{\"type\":\"map\",\"entries\":[[\"AGE\",{\"type\":\"ndarray\",\"array\":{\"type\":\"bytes\",\"data\":\"AAAAAAAANEAAAAAAAABAQAAAAAAAgEdAAAAAAABAUEA=\"},\"shape\":[4],\"dtype\":\"float64\",\"order\":\"little\"}],[\"len\",{\"type\":\"ndarray\",\"array\":{\"type\":\"bytes\",\"data\":\"WxsAABxsAADggwAAwyoAAA==\"},\"shape\":[4],\"dtype\":\"uint32\",\"order\":\"little\"}],[\"ILOSTAT\",[1,1,1,1]]]}}},\"view\":{\"type\":\"object\",\"name\":\"CDSView\",\"id\":\"5ef2f2df-04e1-45b1-a7bb-7b0f0b40e9c9\",\"attributes\":{\"filter\":{\"type\":\"object\",\"name\":\"AllIndices\",\"id\":\"2ea6e903-0536-4771-a79b-e756dd03ee08\"}}},\"glyph\":{\"type\":\"object\",\"name\":\"Line\",\"id\":\"3d2118fd-9646-4a09-aa83-e486900a96ae\",\"attributes\":{\"tags\":[\"apply_ranges\"],\"x\":{\"type\":\"field\",\"field\":\"AGE\"},\"y\":{\"type\":\"field\",\"field\":\"len\"},\"line_color\":\"#e5ae38\",\"line_width\":2}},\"selection_glyph\":{\"type\":\"object\",\"name\":\"Line\",\"id\":\"7209d3f5-4448-4f83-812b-acabeb255270\",\"attributes\":{\"tags\":[\"apply_ranges\"],\"x\":{\"type\":\"field\",\"field\":\"AGE\"},\"y\":{\"type\":\"field\",\"field\":\"len\"},\"line_color\":\"#e5ae38\",\"line_width\":2}},\"nonselection_glyph\":{\"type\":\"object\",\"name\":\"Line\",\"id\":\"234b7890-dc6d-45fe-8b32-c0ecea61516f\",\"attributes\":{\"tags\":[\"apply_ranges\"],\"x\":{\"type\":\"field\",\"field\":\"AGE\"},\"y\":{\"type\":\"field\",\"field\":\"len\"},\"line_color\":\"#e5ae38\",\"line_alpha\":0.1,\"line_width\":2}},\"muted_glyph\":{\"type\":\"object\",\"name\":\"Line\",\"id\":\"589b2643-f79d-4f4d-8b21-993bd107f1f9\",\"attributes\":{\"tags\":[\"apply_ranges\"],\"x\":{\"type\":\"field\",\"field\":\"AGE\"},\"y\":{\"type\":\"field\",\"field\":\"len\"},\"line_color\":\"#e5ae38\",\"line_alpha\":0.2,\"line_width\":2}}}},{\"type\":\"object\",\"name\":\"GlyphRenderer\",\"id\":\"cc97c223-f9ca-4aad-bba1-60be1bd96dd0\",\"attributes\":{\"name\":\"9\",\"data_source\":{\"type\":\"object\",\"name\":\"ColumnDataSource\",\"id\":\"af6f2894-a9ed-44db-8a46-7e91322a09e2\",\"attributes\":{\"selected\":{\"type\":\"object\",\"name\":\"Selection\",\"id\":\"9d81da09-3c62-4a55-a88f-492cbf7ee3fa\",\"attributes\":{\"indices\":[],\"line_indices\":[]}},\"selection_policy\":{\"type\":\"object\",\"name\":\"UnionRenderers\",\"id\":\"5aea7614-9b9e-4d66-9f7e-ea3ce0e1df52\"},\"data\":{\"type\":\"map\",\"entries\":[[\"AGE\",{\"type\":\"ndarray\",\"array\":{\"type\":\"bytes\",\"data\":\"AAAAAAAAHEA=\"},\"shape\":[1],\"dtype\":\"float64\",\"order\":\"little\"}],[\"len\",{\"type\":\"ndarray\",\"array\":{\"type\":\"bytes\",\"data\":\"D40AAA==\"},\"shape\":[1],\"dtype\":\"uint32\",\"order\":\"little\"}],[\"ILOSTAT\",[9]]]}}},\"view\":{\"type\":\"object\",\"name\":\"CDSView\",\"id\":\"e38ddc55-f776-4ddc-a7c3-29359edc40e0\",\"attributes\":{\"filter\":{\"type\":\"object\",\"name\":\"AllIndices\",\"id\":\"9ba5de48-558d-45d8-a91a-542d329d4545\"}}},\"glyph\":{\"type\":\"object\",\"name\":\"Scatter\",\"id\":\"fe185b28-54db-411c-8202-5de26b187ed2\",\"attributes\":{\"tags\":[\"apply_ranges\"],\"x\":{\"type\":\"field\",\"field\":\"AGE\"},\"y\":{\"type\":\"field\",\"field\":\"len\"},\"size\":{\"type\":\"value\",\"value\":5.477225575051661},\"line_color\":{\"type\":\"value\",\"value\":\"#30a2da\"},\"fill_color\":{\"type\":\"value\",\"value\":\"#30a2da\"},\"hatch_color\":{\"type\":\"value\",\"value\":\"#30a2da\"}}},\"selection_glyph\":{\"type\":\"object\",\"name\":\"Scatter\",\"id\":\"464c830a-e5ac-4e9d-a7d0-fa66ee650ffc\",\"attributes\":{\"tags\":[\"apply_ranges\"],\"x\":{\"type\":\"field\",\"field\":\"AGE\"},\"y\":{\"type\":\"field\",\"field\":\"len\"},\"size\":{\"type\":\"value\",\"value\":5.477225575051661},\"angle\":{\"type\":\"value\",\"value\":0.0},\"line_color\":{\"type\":\"value\",\"value\":\"#30a2da\"},\"line_alpha\":{\"type\":\"value\",\"value\":1.0},\"line_width\":{\"type\":\"value\",\"value\":1},\"line_join\":{\"type\":\"value\",\"value\":\"bevel\"},\"line_cap\":{\"type\":\"value\",\"value\":\"butt\"},\"line_dash\":{\"type\":\"value\",\"value\":[]},\"line_dash_offset\":{\"type\":\"value\",\"value\":0},\"fill_color\":{\"type\":\"value\",\"value\":\"#30a2da\"},\"fill_alpha\":{\"type\":\"value\",\"value\":1.0},\"hatch_color\":{\"type\":\"value\",\"value\":\"#30a2da\"},\"hatch_alpha\":{\"type\":\"value\",\"value\":1.0},\"hatch_scale\":{\"type\":\"value\",\"value\":12.0},\"hatch_pattern\":{\"type\":\"value\",\"value\":null},\"hatch_weight\":{\"type\":\"value\",\"value\":1.0},\"marker\":{\"type\":\"value\",\"value\":\"circle\"}}},\"nonselection_glyph\":{\"type\":\"object\",\"name\":\"Scatter\",\"id\":\"f84b309e-3636-4570-99fa-be2d08c018e4\",\"attributes\":{\"tags\":[\"apply_ranges\"],\"x\":{\"type\":\"field\",\"field\":\"AGE\"},\"y\":{\"type\":\"field\",\"field\":\"len\"},\"size\":{\"type\":\"value\",\"value\":5.477225575051661},\"line_color\":{\"type\":\"value\",\"value\":\"#30a2da\"},\"line_alpha\":{\"type\":\"value\",\"value\":0.1},\"fill_color\":{\"type\":\"value\",\"value\":\"#30a2da\"},\"fill_alpha\":{\"type\":\"value\",\"value\":0.1},\"hatch_color\":{\"type\":\"value\",\"value\":\"#30a2da\"},\"hatch_alpha\":{\"type\":\"value\",\"value\":0.1}}},\"muted_glyph\":{\"type\":\"object\",\"name\":\"Scatter\",\"id\":\"59dc81c5-ff43-4c1a-9e2f-ebfcb6ee251e\",\"attributes\":{\"tags\":[\"apply_ranges\"],\"x\":{\"type\":\"field\",\"field\":\"AGE\"},\"y\":{\"type\":\"field\",\"field\":\"len\"},\"size\":{\"type\":\"value\",\"value\":5.477225575051661},\"line_color\":{\"type\":\"value\",\"value\":\"#30a2da\"},\"line_alpha\":{\"type\":\"value\",\"value\":0.2},\"fill_color\":{\"type\":\"value\",\"value\":\"#30a2da\"},\"fill_alpha\":{\"type\":\"value\",\"value\":0.2},\"hatch_color\":{\"type\":\"value\",\"value\":\"#30a2da\"},\"hatch_alpha\":{\"type\":\"value\",\"value\":0.2}}}}},{\"type\":\"object\",\"name\":\"GlyphRenderer\",\"id\":\"5b656b97-972e-4045-a0a2-bc5f813f36b2\",\"attributes\":{\"name\":\"3\",\"data_source\":{\"type\":\"object\",\"name\":\"ColumnDataSource\",\"id\":\"40afd70f-6eed-4ab1-bfba-c4b9f6597d96\",\"attributes\":{\"selected\":{\"type\":\"object\",\"name\":\"Selection\",\"id\":\"d0fad147-5285-4b24-ba79-64b595a43306\",\"attributes\":{\"indices\":[],\"line_indices\":[]}},\"selection_policy\":{\"type\":\"object\",\"name\":\"UnionRenderers\",\"id\":\"00594add-98d5-4128-9562-372f97901dee\"},\"data\":{\"type\":\"map\",\"entries\":[[\"AGE\",{\"type\":\"ndarray\",\"array\":{\"type\":\"bytes\",\"data\":\"AAAAAAAANEAAAAAAAIBHQAAAAAAAQFBAAAAAAADAUkA=\"},\"shape\":[4],\"dtype\":\"float64\",\"order\":\"little\"}],[\"len\",{\"type\":\"ndarray\",\"array\":{\"type\":\"bytes\",\"data\":\"JTwAAGUTAABkfgAASkcAAA==\"},\"shape\":[4],\"dtype\":\"uint32\",\"order\":\"little\"}],[\"ILOSTAT\",[3,3,3,3]]]}}},\"view\":{\"type\":\"object\",\"name\":\"CDSView\",\"id\":\"34e61545-9111-4ee4-b47d-3d7474d2034b\",\"attributes\":{\"filter\":{\"type\":\"object\",\"name\":\"AllIndices\",\"id\":\"3902f45e-a77d-4b1a-a886-b003c499fbba\"}}},\"glyph\":{\"type\":\"object\",\"name\":\"Scatter\",\"id\":\"f6b68bdd-80a4-4291-8ea2-a48a73ebd60c\",\"attributes\":{\"tags\":[\"apply_ranges\"],\"x\":{\"type\":\"field\",\"field\":\"AGE\"},\"y\":{\"type\":\"field\",\"field\":\"len\"},\"size\":{\"type\":\"value\",\"value\":5.477225575051661},\"line_color\":{\"type\":\"value\",\"value\":\"#fc4f30\"},\"fill_color\":{\"type\":\"value\",\"value\":\"#fc4f30\"},\"hatch_color\":{\"type\":\"value\",\"value\":\"#fc4f30\"}}},\"selection_glyph\":{\"type\":\"object\",\"name\":\"Scatter\",\"id\":\"987e4acf-9c10-4a8d-9da8-a7a18a3cf908\",\"attributes\":{\"tags\":[\"apply_ranges\"],\"x\":{\"type\":\"field\",\"field\":\"AGE\"},\"y\":{\"type\":\"field\",\"field\":\"len\"},\"size\":{\"type\":\"value\",\"value\":5.477225575051661},\"angle\":{\"type\":\"value\",\"value\":0.0},\"line_color\":{\"type\":\"value\",\"value\":\"#fc4f30\"},\"line_alpha\":{\"type\":\"value\",\"value\":1.0},\"line_width\":{\"type\":\"value\",\"value\":1},\"line_join\":{\"type\":\"value\",\"value\":\"bevel\"},\"line_cap\":{\"type\":\"value\",\"value\":\"butt\"},\"line_dash\":{\"type\":\"value\",\"value\":[]},\"line_dash_offset\":{\"type\":\"value\",\"value\":0},\"fill_color\":{\"type\":\"value\",\"value\":\"#fc4f30\"},\"fill_alpha\":{\"type\":\"value\",\"value\":1.0},\"hatch_color\":{\"type\":\"value\",\"value\":\"#fc4f30\"},\"hatch_alpha\":{\"type\":\"value\",\"value\":1.0},\"hatch_scale\":{\"type\":\"value\",\"value\":12.0},\"hatch_pattern\":{\"type\":\"value\",\"value\":null},\"hatch_weight\":{\"type\":\"value\",\"value\":1.0},\"marker\":{\"type\":\"value\",\"value\":\"circle\"}}},\"nonselection_glyph\":{\"type\":\"object\",\"name\":\"Scatter\",\"id\":\"d65d894c-4baf-419e-8a2a-c80889a030a9\",\"attributes\":{\"tags\":[\"apply_ranges\"],\"x\":{\"type\":\"field\",\"field\":\"AGE\"},\"y\":{\"type\":\"field\",\"field\":\"len\"},\"size\":{\"type\":\"value\",\"value\":5.477225575051661},\"line_color\":{\"type\":\"value\",\"value\":\"#fc4f30\"},\"line_alpha\":{\"type\":\"value\",\"value\":0.1},\"fill_color\":{\"type\":\"value\",\"value\":\"#fc4f30\"},\"fill_alpha\":{\"type\":\"value\",\"value\":0.1},\"hatch_color\":{\"type\":\"value\",\"value\":\"#fc4f30\"},\"hatch_alpha\":{\"type\":\"value\",\"value\":0.1}}},\"muted_glyph\":{\"type\":\"object\",\"name\":\"Scatter\",\"id\":\"95017c13-c6e6-4bfb-afb7-c6151b5d20fd\",\"attributes\":{\"tags\":[\"apply_ranges\"],\"x\":{\"type\":\"field\",\"field\":\"AGE\"},\"y\":{\"type\":\"field\",\"field\":\"len\"},\"size\":{\"type\":\"value\",\"value\":5.477225575051661},\"line_color\":{\"type\":\"value\",\"value\":\"#fc4f30\"},\"line_alpha\":{\"type\":\"value\",\"value\":0.2},\"fill_color\":{\"type\":\"value\",\"value\":\"#fc4f30\"},\"fill_alpha\":{\"type\":\"value\",\"value\":0.2},\"hatch_color\":{\"type\":\"value\",\"value\":\"#fc4f30\"},\"hatch_alpha\":{\"type\":\"value\",\"value\":0.2}}}}},{\"type\":\"object\",\"name\":\"GlyphRenderer\",\"id\":\"cb193142-d2c4-4703-870a-c0a5b856616e\",\"attributes\":{\"name\":\"1\",\"data_source\":{\"type\":\"object\",\"name\":\"ColumnDataSource\",\"id\":\"14f7dc0f-3431-4fde-b323-351b03dab490\",\"attributes\":{\"selected\":{\"type\":\"object\",\"name\":\"Selection\",\"id\":\"e160b1cc-a934-4a17-bf4a-d81e6e7e9027\",\"attributes\":{\"indices\":[],\"line_indices\":[]}},\"selection_policy\":{\"type\":\"object\",\"name\":\"UnionRenderers\",\"id\":\"1b9387f2-aa9e-46bf-829e-684376da229e\"},\"data\":{\"type\":\"map\",\"entries\":[[\"AGE\",{\"type\":\"ndarray\",\"array\":{\"type\":\"bytes\",\"data\":\"AAAAAAAANEAAAAAAAABAQAAAAAAAgEdAAAAAAABAUEA=\"},\"shape\":[4],\"dtype\":\"float64\",\"order\":\"little\"}],[\"len\",{\"type\":\"ndarray\",\"array\":{\"type\":\"bytes\",\"data\":\"WxsAABxsAADggwAAwyoAAA==\"},\"shape\":[4],\"dtype\":\"uint32\",\"order\":\"little\"}],[\"ILOSTAT\",[1,1,1,1]]]}}},\"view\":{\"type\":\"object\",\"name\":\"CDSView\",\"id\":\"bfdc08f1-6770-4120-9860-34672ae90885\",\"attributes\":{\"filter\":{\"type\":\"object\",\"name\":\"AllIndices\",\"id\":\"ee7f29e1-96fd-4e2e-95b6-dddf97edcb5b\"}}},\"glyph\":{\"type\":\"object\",\"name\":\"Scatter\",\"id\":\"4fb8d9e3-c8cf-4f54-b346-d6298885f6f3\",\"attributes\":{\"tags\":[\"apply_ranges\"],\"x\":{\"type\":\"field\",\"field\":\"AGE\"},\"y\":{\"type\":\"field\",\"field\":\"len\"},\"size\":{\"type\":\"value\",\"value\":5.477225575051661},\"line_color\":{\"type\":\"value\",\"value\":\"#e5ae38\"},\"fill_color\":{\"type\":\"value\",\"value\":\"#e5ae38\"},\"hatch_color\":{\"type\":\"value\",\"value\":\"#e5ae38\"}}},\"selection_glyph\":{\"type\":\"object\",\"name\":\"Scatter\",\"id\":\"3d7dc335-5079-42cc-ac9a-79691dd29bc0\",\"attributes\":{\"tags\":[\"apply_ranges\"],\"x\":{\"type\":\"field\",\"field\":\"AGE\"},\"y\":{\"type\":\"field\",\"field\":\"len\"},\"size\":{\"type\":\"value\",\"value\":5.477225575051661},\"angle\":{\"type\":\"value\",\"value\":0.0},\"line_color\":{\"type\":\"value\",\"value\":\"#e5ae38\"},\"line_alpha\":{\"type\":\"value\",\"value\":1.0},\"line_width\":{\"type\":\"value\",\"value\":1},\"line_join\":{\"type\":\"value\",\"value\":\"bevel\"},\"line_cap\":{\"type\":\"value\",\"value\":\"butt\"},\"line_dash\":{\"type\":\"value\",\"value\":[]},\"line_dash_offset\":{\"type\":\"value\",\"value\":0},\"fill_color\":{\"type\":\"value\",\"value\":\"#e5ae38\"},\"fill_alpha\":{\"type\":\"value\",\"value\":1.0},\"hatch_color\":{\"type\":\"value\",\"value\":\"#e5ae38\"},\"hatch_alpha\":{\"type\":\"value\",\"value\":1.0},\"hatch_scale\":{\"type\":\"value\",\"value\":12.0},\"hatch_pattern\":{\"type\":\"value\",\"value\":null},\"hatch_weight\":{\"type\":\"value\",\"value\":1.0},\"marker\":{\"type\":\"value\",\"value\":\"circle\"}}},\"nonselection_glyph\":{\"type\":\"object\",\"name\":\"Scatter\",\"id\":\"481c1e28-b42d-4244-bcbf-cdc8859ff564\",\"attributes\":{\"tags\":[\"apply_ranges\"],\"x\":{\"type\":\"field\",\"field\":\"AGE\"},\"y\":{\"type\":\"field\",\"field\":\"len\"},\"size\":{\"type\":\"value\",\"value\":5.477225575051661},\"line_color\":{\"type\":\"value\",\"value\":\"#e5ae38\"},\"line_alpha\":{\"type\":\"value\",\"value\":0.1},\"fill_color\":{\"type\":\"value\",\"value\":\"#e5ae38\"},\"fill_alpha\":{\"type\":\"value\",\"value\":0.1},\"hatch_color\":{\"type\":\"value\",\"value\":\"#e5ae38\"},\"hatch_alpha\":{\"type\":\"value\",\"value\":0.1}}},\"muted_glyph\":{\"type\":\"object\",\"name\":\"Scatter\",\"id\":\"87c26357-623e-471d-967a-a0d135fc21b3\",\"attributes\":{\"tags\":[\"apply_ranges\"],\"x\":{\"type\":\"field\",\"field\":\"AGE\"},\"y\":{\"type\":\"field\",\"field\":\"len\"},\"size\":{\"type\":\"value\",\"value\":5.477225575051661},\"line_color\":{\"type\":\"value\",\"value\":\"#e5ae38\"},\"line_alpha\":{\"type\":\"value\",\"value\":0.2},\"fill_color\":{\"type\":\"value\",\"value\":\"#e5ae38\"},\"fill_alpha\":{\"type\":\"value\",\"value\":0.2},\"hatch_color\":{\"type\":\"value\",\"value\":\"#e5ae38\"},\"hatch_alpha\":{\"type\":\"value\",\"value\":0.2}}}}}],\"toolbar\":{\"type\":\"object\",\"name\":\"Toolbar\",\"id\":\"68c7fdd4-a9dd-48de-8f32-b467c2f39ba2\",\"attributes\":{\"tools\":[{\"type\":\"object\",\"name\":\"WheelZoomTool\",\"id\":\"0d21f852-54f0-4a6c-93dc-c71c60ff20f6\",\"attributes\":{\"tags\":[\"hv_created\"],\"renderers\":\"auto\",\"zoom_together\":\"none\"}},{\"type\":\"object\",\"name\":\"HoverTool\",\"id\":\"299ab6e0-ea9f-49e5-8122-95e430d69743\",\"attributes\":{\"tags\":[\"hv_created\"],\"renderers\":[{\"id\":\"37782347-758a-4a79-9f4a-dd574107e37a\"},{\"id\":\"d5cd88a1-e5d1-4546-a4d0-4974085aac02\"},{\"id\":\"7cabbb24-62a6-47de-9c79-5c6cc316b358\"},{\"id\":\"cc97c223-f9ca-4aad-bba1-60be1bd96dd0\"},{\"id\":\"5b656b97-972e-4045-a0a2-bc5f813f36b2\"},{\"id\":\"cb193142-d2c4-4703-870a-c0a5b856616e\"}],\"tooltips\":[[\"ILOSTAT\",\"@{ILOSTAT}\"],[\"AGE\",\"@{AGE}\"],[\"len\",\"@{len}\"]]}},{\"type\":\"object\",\"name\":\"SaveTool\",\"id\":\"3b948bbc-0a1e-4afa-ac8c-5ce6b8249b5c\"},{\"type\":\"object\",\"name\":\"PanTool\",\"id\":\"b1b503ee-16db-492c-afd3-610d5826fbcd\"},{\"type\":\"object\",\"name\":\"BoxZoomTool\",\"id\":\"59b44165-b22c-4e22-8d78-a86024aea6af\",\"attributes\":{\"overlay\":{\"type\":\"object\",\"name\":\"BoxAnnotation\",\"id\":\"7570cb1b-4c3b-4456-989a-6aca4f3a23e6\",\"attributes\":{\"syncable\":false,\"line_color\":\"black\",\"line_alpha\":1.0,\"line_width\":2,\"line_dash\":[4,4],\"fill_color\":\"lightgrey\",\"fill_alpha\":0.5,\"level\":\"overlay\",\"visible\":false,\"left\":{\"type\":\"number\",\"value\":\"nan\"},\"right\":{\"type\":\"number\",\"value\":\"nan\"},\"top\":{\"type\":\"number\",\"value\":\"nan\"},\"bottom\":{\"type\":\"number\",\"value\":\"nan\"},\"left_units\":\"canvas\",\"right_units\":\"canvas\",\"top_units\":\"canvas\",\"bottom_units\":\"canvas\",\"handles\":{\"type\":\"object\",\"name\":\"BoxInteractionHandles\",\"id\":\"f0eb9a14-6a09-4b63-a7b0-a52d5e9244ff\",\"attributes\":{\"all\":{\"type\":\"object\",\"name\":\"AreaVisuals\",\"id\":\"42a90c53-4b4a-4a04-9c36-421dcbf2ef35\",\"attributes\":{\"fill_color\":\"white\",\"hover_fill_color\":\"lightgray\"}}}}}}}},{\"type\":\"object\",\"name\":\"ResetTool\",\"id\":\"d08da0e5-3e28-4aee-bb37-c7d8479340b9\"}],\"active_drag\":{\"id\":\"b1b503ee-16db-492c-afd3-610d5826fbcd\"},\"active_scroll\":{\"id\":\"0d21f852-54f0-4a6c-93dc-c71c60ff20f6\"}}},\"left\":[{\"type\":\"object\",\"name\":\"LinearAxis\",\"id\":\"743e1713-3277-4377-9f70-fd5f80c86da1\",\"attributes\":{\"ticker\":{\"type\":\"object\",\"name\":\"BasicTicker\",\"id\":\"569c08cf-09fa-4bf6-b5e1-3970bfacfd00\",\"attributes\":{\"mantissas\":[1,2,5]}},\"formatter\":{\"type\":\"object\",\"name\":\"BasicTickFormatter\",\"id\":\"a072ed9d-2bfd-43d0-894b-646a74286eb9\"},\"axis_label\":\"len\",\"major_label_policy\":{\"type\":\"object\",\"name\":\"AllLabels\",\"id\":\"c6ef3763-ebc1-4f1d-967c-7f8d50c3a12d\"}}}],\"right\":[{\"type\":\"object\",\"name\":\"Legend\",\"id\":\"521d5dcf-beb0-4487-894a-c06631966b4d\",\"attributes\":{\"location\":[0,0],\"click_policy\":\"mute\",\"items\":[{\"type\":\"object\",\"name\":\"LegendItem\",\"id\":\"2ccacc9b-4622-4c51-b98c-52912b8e4e29\",\"attributes\":{\"label\":{\"type\":\"value\",\"value\":\"9\"},\"renderers\":[{\"id\":\"37782347-758a-4a79-9f4a-dd574107e37a\"},{\"id\":\"cc97c223-f9ca-4aad-bba1-60be1bd96dd0\"}]}},{\"type\":\"object\",\"name\":\"LegendItem\",\"id\":\"4c88173b-5666-46f8-9bda-f99f75dc9478\",\"attributes\":{\"label\":{\"type\":\"value\",\"value\":\"3\"},\"renderers\":[{\"id\":\"d5cd88a1-e5d1-4546-a4d0-4974085aac02\"},{\"id\":\"5b656b97-972e-4045-a0a2-bc5f813f36b2\"}]}},{\"type\":\"object\",\"name\":\"LegendItem\",\"id\":\"ec1d8364-f046-4af8-8d0c-929642ad243e\",\"attributes\":{\"label\":{\"type\":\"value\",\"value\":\"1\"},\"renderers\":[{\"id\":\"7cabbb24-62a6-47de-9c79-5c6cc316b358\"},{\"id\":\"cb193142-d2c4-4703-870a-c0a5b856616e\"}]}}]}}],\"below\":[{\"type\":\"object\",\"name\":\"LinearAxis\",\"id\":\"929102bd-31bc-43ad-9e9d-bdd6a8caa544\",\"attributes\":{\"ticker\":{\"type\":\"object\",\"name\":\"BasicTicker\",\"id\":\"59e4672c-a722-423b-8be5-43510d3d5611\",\"attributes\":{\"mantissas\":[1,2,5]}},\"formatter\":{\"type\":\"object\",\"name\":\"BasicTickFormatter\",\"id\":\"b9fd5183-8119-4368-9444-4b7e4683fc0c\"},\"axis_label\":\"AGE\",\"major_label_policy\":{\"type\":\"object\",\"name\":\"AllLabels\",\"id\":\"84824449-4c6e-42a2-8253-cec815ecb8c7\"}}}],\"center\":[{\"type\":\"object\",\"name\":\"Grid\",\"id\":\"f2851e9f-ad63-4e7e-a4f3-6652590fd7bb\",\"attributes\":{\"axis\":{\"id\":\"929102bd-31bc-43ad-9e9d-bdd6a8caa544\"},\"grid_line_color\":null}},{\"type\":\"object\",\"name\":\"Grid\",\"id\":\"e6725c9e-1993-431e-84aa-7a489ef01faf\",\"attributes\":{\"dimension\":1,\"axis\":{\"id\":\"743e1713-3277-4377-9f70-fd5f80c86da1\"},\"grid_line_color\":null}}],\"min_border_top\":10,\"min_border_bottom\":10,\"min_border_left\":10,\"min_border_right\":10,\"output_backend\":\"webgl\"}},{\"type\":\"object\",\"name\":\"Spacer\",\"id\":\"b5d63fe6-eb54-4211-9a4d-30da2fa8f2d8\",\"attributes\":{\"name\":\"HSpacer00350\",\"stylesheets\":[\"\\n:host(.pn-loading):before, .pn-loading:before {\\n  background-color: #c3c3c3;\\n  mask-size: auto calc(min(50%, 400px));\\n  -webkit-mask-size: auto calc(min(50%, 400px));\\n}\",{\"id\":\"54884c5c-9407-48a0-8215-76b6a81059cb\"},{\"id\":\"f7b97843-36ca-431a-a3cc-4c9aa08fa14f\"},{\"id\":\"a59fa319-4e1c-4773-8776-39fda518f478\"}],\"margin\":0,\"sizing_mode\":\"stretch_width\",\"align\":\"start\"}}]}}],\"defs\":[{\"type\":\"model\",\"name\":\"ReactiveHTML1\"},{\"type\":\"model\",\"name\":\"FlexBox1\",\"properties\":[{\"name\":\"align_content\",\"kind\":\"Any\",\"default\":\"flex-start\"},{\"name\":\"align_items\",\"kind\":\"Any\",\"default\":\"flex-start\"},{\"name\":\"flex_direction\",\"kind\":\"Any\",\"default\":\"row\"},{\"name\":\"flex_wrap\",\"kind\":\"Any\",\"default\":\"wrap\"},{\"name\":\"gap\",\"kind\":\"Any\",\"default\":\"\"},{\"name\":\"justify_content\",\"kind\":\"Any\",\"default\":\"flex-start\"}]},{\"type\":\"model\",\"name\":\"FloatPanel1\",\"properties\":[{\"name\":\"config\",\"kind\":\"Any\",\"default\":{\"type\":\"map\"}},{\"name\":\"contained\",\"kind\":\"Any\",\"default\":true},{\"name\":\"position\",\"kind\":\"Any\",\"default\":\"right-top\"},{\"name\":\"offsetx\",\"kind\":\"Any\",\"default\":null},{\"name\":\"offsety\",\"kind\":\"Any\",\"default\":null},{\"name\":\"theme\",\"kind\":\"Any\",\"default\":\"primary\"},{\"name\":\"status\",\"kind\":\"Any\",\"default\":\"normalized\"}]},{\"type\":\"model\",\"name\":\"GridStack1\",\"properties\":[{\"name\":\"mode\",\"kind\":\"Any\",\"default\":\"warn\"},{\"name\":\"ncols\",\"kind\":\"Any\",\"default\":null},{\"name\":\"nrows\",\"kind\":\"Any\",\"default\":null},{\"name\":\"allow_resize\",\"kind\":\"Any\",\"default\":true},{\"name\":\"allow_drag\",\"kind\":\"Any\",\"default\":true},{\"name\":\"state\",\"kind\":\"Any\",\"default\":[]}]},{\"type\":\"model\",\"name\":\"drag1\",\"properties\":[{\"name\":\"slider_width\",\"kind\":\"Any\",\"default\":5},{\"name\":\"slider_color\",\"kind\":\"Any\",\"default\":\"black\"},{\"name\":\"value\",\"kind\":\"Any\",\"default\":50}]},{\"type\":\"model\",\"name\":\"click1\",\"properties\":[{\"name\":\"terminal_output\",\"kind\":\"Any\",\"default\":\"\"},{\"name\":\"debug_name\",\"kind\":\"Any\",\"default\":\"\"},{\"name\":\"clears\",\"kind\":\"Any\",\"default\":0}]},{\"type\":\"model\",\"name\":\"FastWrapper1\",\"properties\":[{\"name\":\"object\",\"kind\":\"Any\",\"default\":null},{\"name\":\"style\",\"kind\":\"Any\",\"default\":null}]},{\"type\":\"model\",\"name\":\"NotificationAreaBase1\",\"properties\":[{\"name\":\"js_events\",\"kind\":\"Any\",\"default\":{\"type\":\"map\"}},{\"name\":\"position\",\"kind\":\"Any\",\"default\":\"bottom-right\"},{\"name\":\"_clear\",\"kind\":\"Any\",\"default\":0}]},{\"type\":\"model\",\"name\":\"NotificationArea1\",\"properties\":[{\"name\":\"js_events\",\"kind\":\"Any\",\"default\":{\"type\":\"map\"}},{\"name\":\"notifications\",\"kind\":\"Any\",\"default\":[]},{\"name\":\"position\",\"kind\":\"Any\",\"default\":\"bottom-right\"},{\"name\":\"_clear\",\"kind\":\"Any\",\"default\":0},{\"name\":\"types\",\"kind\":\"Any\",\"default\":[{\"type\":\"map\",\"entries\":[[\"type\",\"warning\"],[\"background\",\"#ffc107\"],[\"icon\",{\"type\":\"map\",\"entries\":[[\"className\",\"fas fa-exclamation-triangle\"],[\"tagName\",\"i\"],[\"color\",\"white\"]]}]]},{\"type\":\"map\",\"entries\":[[\"type\",\"info\"],[\"background\",\"#007bff\"],[\"icon\",{\"type\":\"map\",\"entries\":[[\"className\",\"fas fa-info-circle\"],[\"tagName\",\"i\"],[\"color\",\"white\"]]}]]}]}]},{\"type\":\"model\",\"name\":\"Notification\",\"properties\":[{\"name\":\"background\",\"kind\":\"Any\",\"default\":null},{\"name\":\"duration\",\"kind\":\"Any\",\"default\":3000},{\"name\":\"icon\",\"kind\":\"Any\",\"default\":null},{\"name\":\"message\",\"kind\":\"Any\",\"default\":\"\"},{\"name\":\"notification_type\",\"kind\":\"Any\",\"default\":null},{\"name\":\"_rendered\",\"kind\":\"Any\",\"default\":false},{\"name\":\"_destroyed\",\"kind\":\"Any\",\"default\":false}]},{\"type\":\"model\",\"name\":\"TemplateActions1\",\"properties\":[{\"name\":\"open_modal\",\"kind\":\"Any\",\"default\":0},{\"name\":\"close_modal\",\"kind\":\"Any\",\"default\":0}]},{\"type\":\"model\",\"name\":\"BootstrapTemplateActions1\",\"properties\":[{\"name\":\"open_modal\",\"kind\":\"Any\",\"default\":0},{\"name\":\"close_modal\",\"kind\":\"Any\",\"default\":0}]},{\"type\":\"model\",\"name\":\"TemplateEditor1\",\"properties\":[{\"name\":\"layout\",\"kind\":\"Any\",\"default\":[]}]},{\"type\":\"model\",\"name\":\"MaterialTemplateActions1\",\"properties\":[{\"name\":\"open_modal\",\"kind\":\"Any\",\"default\":0},{\"name\":\"close_modal\",\"kind\":\"Any\",\"default\":0}]},{\"type\":\"model\",\"name\":\"ReactiveESM1\",\"properties\":[{\"name\":\"esm_constants\",\"kind\":\"Any\",\"default\":{\"type\":\"map\"}}]},{\"type\":\"model\",\"name\":\"JSComponent1\",\"properties\":[{\"name\":\"esm_constants\",\"kind\":\"Any\",\"default\":{\"type\":\"map\"}}]},{\"type\":\"model\",\"name\":\"ReactComponent1\",\"properties\":[{\"name\":\"esm_constants\",\"kind\":\"Any\",\"default\":{\"type\":\"map\"}}]},{\"type\":\"model\",\"name\":\"AnyWidgetComponent1\",\"properties\":[{\"name\":\"esm_constants\",\"kind\":\"Any\",\"default\":{\"type\":\"map\"}}]},{\"type\":\"model\",\"name\":\"request_value1\",\"properties\":[{\"name\":\"fill\",\"kind\":\"Any\",\"default\":\"none\"},{\"name\":\"_synced\",\"kind\":\"Any\",\"default\":null},{\"name\":\"_request_sync\",\"kind\":\"Any\",\"default\":0}]}]}};\n",
       "  var render_items = [{\"docid\":\"80a6bed4-76fc-45eb-a940-382c150bfee3\",\"roots\":{\"ed32c811-a764-42bf-8349-ce0ab1a90171\":\"bc180ad5-ec24-4442-8811-691eb439ca10\"},\"root_ids\":[\"ed32c811-a764-42bf-8349-ce0ab1a90171\"]}];\n",
       "  var docs = Object.values(docs_json)\n",
       "  if (!docs) {\n",
       "    return\n",
       "  }\n",
       "  const py_version = docs[0].version.replace('rc', '-rc.').replace('.dev', '-dev.')\n",
       "  async function embed_document(root) {\n",
       "    var Bokeh = get_bokeh(root)\n",
       "    await Bokeh.embed.embed_items_notebook(docs_json, render_items);\n",
       "    for (const render_item of render_items) {\n",
       "      for (const root_id of render_item.root_ids) {\n",
       "\tconst id_el = document.getElementById(root_id)\n",
       "\tif (id_el.children.length && id_el.children[0].hasAttribute('data-root-id')) {\n",
       "\t  const root_el = id_el.children[0]\n",
       "\t  root_el.id = root_el.id + '-rendered'\n",
       "\t  for (const child of root_el.children) {\n",
       "            // Ensure JupyterLab does not capture keyboard shortcuts\n",
       "            // see: https://jupyterlab.readthedocs.io/en/4.1.x/extension/notebook.html#keyboard-interaction-model\n",
       "\t    child.setAttribute('data-lm-suppress-shortcuts', 'true')\n",
       "\t  }\n",
       "\t}\n",
       "      }\n",
       "    }\n",
       "  }\n",
       "  function get_bokeh(root) {\n",
       "    if (root.Bokeh === undefined) {\n",
       "      return null\n",
       "    } else if (root.Bokeh.version !== py_version) {\n",
       "      if (root.Bokeh.versions === undefined || !root.Bokeh.versions.has(py_version)) {\n",
       "\treturn null\n",
       "      }\n",
       "      return root.Bokeh.versions.get(py_version);\n",
       "    } else if (root.Bokeh.version === py_version) {\n",
       "      return root.Bokeh\n",
       "    }\n",
       "    return null\n",
       "  }\n",
       "  function is_loaded(root) {\n",
       "    var Bokeh = get_bokeh(root)\n",
       "    return (Bokeh != null && Bokeh.Panel !== undefined)\n",
       "  }\n",
       "  if (is_loaded(root)) {\n",
       "    embed_document(root);\n",
       "  } else {\n",
       "    var attempts = 0;\n",
       "    var timer = setInterval(function(root) {\n",
       "      if (is_loaded(root)) {\n",
       "        clearInterval(timer);\n",
       "        embed_document(root);\n",
       "      } else if (document.readyState == \"complete\") {\n",
       "        attempts++;\n",
       "        if (attempts > 200) {\n",
       "          clearInterval(timer);\n",
       "\t  var Bokeh = get_bokeh(root)\n",
       "\t  if (Bokeh == null || Bokeh.Panel == null) {\n",
       "            console.warn(\"Panel: ERROR: Unable to run Panel code because Bokeh or Panel library is missing\");\n",
       "\t  } else {\n",
       "\t    console.warn(\"Panel: WARNING: Attempting to render but not all required libraries could be resolved.\")\n",
       "\t    embed_document(root)\n",
       "\t  }\n",
       "        }\n",
       "      }\n",
       "    }, 25, root)\n",
       "  }\n",
       "})(window);</script>"
      ],
      "text/plain": [
       ":Overlay\n",
       "   .NdOverlay.I  :NdOverlay   [ILOSTAT]\n",
       "      :Curve   [AGE]   (len)\n",
       "   .NdOverlay.II :NdOverlay   [ILOSTAT]\n",
       "      :Scatter   [AGE]   (len)"
      ]
     },
     "execution_count": 15,
     "metadata": {
      "application/vnd.holoviews_exec.v0+json": {
       "id": "ed32c811-a764-42bf-8349-ce0ab1a90171"
      }
     },
     "output_type": "execute_result"
    }
   ],
   "source": [
    "import hvplot.polars\n",
    "df = query_age_ilostat.release().collect()\n",
    "\n",
    "line = df.sort(\"AGE\").hvplot.line(x=\"AGE\", y=\"len\", by=\"ILOSTAT\")\n",
    "scatter = df.sort(\"AGE\").hvplot.scatter(x=\"AGE\", y=\"len\", by=\"ILOSTAT\")\n",
    "line * scatter"
   ]
  },
  {
   "cell_type": "markdown",
   "metadata": {},
   "source": [
    "Explicit keys"
   ]
  },
  {
   "cell_type": "code",
   "execution_count": null,
   "metadata": {},
   "outputs": [
    {
     "data": {
      "text/html": [
       "<div><style>\n",
       ".dataframe > thead > tr,\n",
       ".dataframe > tbody > tr {\n",
       "  text-align: right;\n",
       "  white-space: pre-wrap;\n",
       "}\n",
       "</style>\n",
       "<small>shape: (1, 5)</small><table border=\"1\" class=\"dataframe\"><thead><tr><th>column</th><th>aggregate</th><th>distribution</th><th>scale</th><th>accuracy</th></tr><tr><td>str</td><td>str</td><td>str</td><td>f64</td><td>f64</td></tr></thead><tbody><tr><td>&quot;len&quot;</td><td>&quot;Frame Length&quot;</td><td>&quot;Integer Laplace&quot;</td><td>144.0</td><td>431.884579</td></tr></tbody></table></div>"
      ],
      "text/plain": [
       "shape: (1, 5)\n",
       "┌────────┬──────────────┬─────────────────┬───────┬────────────┐\n",
       "│ column ┆ aggregate    ┆ distribution    ┆ scale ┆ accuracy   │\n",
       "│ ---    ┆ ---          ┆ ---             ┆ ---   ┆ ---        │\n",
       "│ str    ┆ str          ┆ str             ┆ f64   ┆ f64        │\n",
       "╞════════╪══════════════╪═════════════════╪═══════╪════════════╡\n",
       "│ len    ┆ Frame Length ┆ Integer Laplace ┆ 144.0 ┆ 431.884579 │\n",
       "└────────┴──────────────┴─────────────────┴───────┴────────────┘"
      ]
     },
     "execution_count": 33,
     "metadata": {},
     "output_type": "execute_result"
    }
   ],
   "source": [
    "context = dp.Context.compositor(\n",
    "    data=pl.scan_csv(dp.examples.get_france_lfs_path(), ignore_errors=True),\n",
    "    privacy_unit=dp.unit_of(contributions=36),\n",
    "    privacy_loss=dp.loss_of(epsilon=1.0 / 4),\n",
    "    split_evenly_over=1,\n",
    "    margins={\n",
    "        # partition keys when grouped by \"YEAR\" and \"QUARTER\" are invariant\n",
    "        (\"YEAR\", \"QUARTER\"): dp.polars.Margin(\n",
    "            public_info=\"keys\",\n",
    "        )\n",
    "    },\n",
    ")\n",
    "# For example, in the Eurostat data, you may consider the quarters in which data has been collected to be public information.\n",
    "\n",
    "query_quarterly_counts = (\n",
    "    context.query()\n",
    "    .group_by(\"YEAR\", \"QUARTER\")\n",
    "    .agg(dp.len())\n",
    ")\n",
    "\n",
    "summary = query_quarterly_counts.summarize(alpha=.05)\n",
    "summary"
   ]
  },
  {
   "cell_type": "code",
   "execution_count": null,
   "metadata": {},
   "outputs": [
    {
     "data": {},
     "metadata": {},
     "output_type": "display_data"
    },
    {
     "data": {
      "application/vnd.holoviews_exec.v0+json": "",
      "text/html": [
       "<div id='448f5c73-13b1-4e20-92d0-421674a7e779'>\n",
       "  <div id=\"c01e4669-1aee-4ef3-b084-02dfcfa55d6d\" data-root-id=\"448f5c73-13b1-4e20-92d0-421674a7e779\" style=\"display: contents;\"></div>\n",
       "</div>\n",
       "<script type=\"application/javascript\">(function(root) {\n",
       "  var docs_json = {\"fe0a266e-025b-4872-a680-2653a096ee1e\":{\"version\":\"3.6.3\",\"title\":\"Bokeh Application\",\"roots\":[{\"type\":\"object\",\"name\":\"Row\",\"id\":\"448f5c73-13b1-4e20-92d0-421674a7e779\",\"attributes\":{\"name\":\"Row00542\",\"tags\":[\"embedded\"],\"stylesheets\":[\"\\n:host(.pn-loading):before, .pn-loading:before {\\n  background-color: #c3c3c3;\\n  mask-size: auto calc(min(50%, 400px));\\n  -webkit-mask-size: auto calc(min(50%, 400px));\\n}\",{\"type\":\"object\",\"name\":\"ImportedStyleSheet\",\"id\":\"726a19a6-2d2c-4eb1-887c-82e2c58db36a\",\"attributes\":{\"url\":\"https://cdn.holoviz.org/panel/1.6.1/dist/css/loading.css\"}},{\"type\":\"object\",\"name\":\"ImportedStyleSheet\",\"id\":\"bf11f482-65a8-4b46-935e-ba2645b3b252\",\"attributes\":{\"url\":\"https://cdn.holoviz.org/panel/1.6.1/dist/css/listpanel.css\"}},{\"type\":\"object\",\"name\":\"ImportedStyleSheet\",\"id\":\"21ed6a9e-d443-45f9-afa0-a4777eb828ef\",\"attributes\":{\"url\":\"https://cdn.holoviz.org/panel/1.6.1/dist/bundled/theme/default.css\"}},{\"type\":\"object\",\"name\":\"ImportedStyleSheet\",\"id\":\"d95094a7-cca9-4e2c-8636-72a72612e388\",\"attributes\":{\"url\":\"https://cdn.holoviz.org/panel/1.6.1/dist/bundled/theme/native.css\"}}],\"min_width\":700,\"margin\":0,\"sizing_mode\":\"stretch_width\",\"align\":\"start\",\"children\":[{\"type\":\"object\",\"name\":\"Spacer\",\"id\":\"9e8ccad2-3c42-44dc-bde5-f165aac0e475\",\"attributes\":{\"name\":\"HSpacer00546\",\"stylesheets\":[\"\\n:host(.pn-loading):before, .pn-loading:before {\\n  background-color: #c3c3c3;\\n  mask-size: auto calc(min(50%, 400px));\\n  -webkit-mask-size: auto calc(min(50%, 400px));\\n}\",{\"id\":\"726a19a6-2d2c-4eb1-887c-82e2c58db36a\"},{\"id\":\"21ed6a9e-d443-45f9-afa0-a4777eb828ef\"},{\"id\":\"d95094a7-cca9-4e2c-8636-72a72612e388\"}],\"margin\":0,\"sizing_mode\":\"stretch_width\",\"align\":\"start\"}},{\"type\":\"object\",\"name\":\"Figure\",\"id\":\"c0c04d44-7081-4dee-ab58-7e6ba92c7283\",\"attributes\":{\"width\":700,\"height\":300,\"margin\":[5,10],\"sizing_mode\":\"fixed\",\"align\":\"start\",\"x_range\":{\"type\":\"object\",\"name\":\"Range1d\",\"id\":\"7cf732ef-bed1-4651-bba9-6d1910532870\",\"attributes\":{\"name\":\"date\",\"tags\":[[[\"date\",null]],[]],\"start\":1080777600000.0,\"end\":1385856000000.0,\"reset_start\":1080777600000.0,\"reset_end\":1385856000000.0}},\"y_range\":{\"type\":\"object\",\"name\":\"Range1d\",\"id\":\"d7b372c8-d2b8-44b8-8fc7-e6b32733bd0b\",\"attributes\":{\"name\":\"len\",\"tags\":[[[\"len\",null]],{\"type\":\"map\",\"entries\":[[\"invert_yaxis\",false],[\"autorange\",false]]}],\"start\":2507.038504794444,\"end\":7523.961495205556,\"reset_start\":2507.038504794444,\"reset_end\":7523.961495205556}},\"x_scale\":{\"type\":\"object\",\"name\":\"LinearScale\",\"id\":\"dc6c0abf-2e75-41f7-ab44-4c9aa4249e7f\"},\"y_scale\":{\"type\":\"object\",\"name\":\"LinearScale\",\"id\":\"a4b99cc2-8d33-430c-ab51-6c57f47db795\"},\"title\":{\"type\":\"object\",\"name\":\"Title\",\"id\":\"6924ce8f-91c4-4350-8e4e-0bcad66c9fc5\",\"attributes\":{\"text_color\":\"black\",\"text_font_size\":\"12pt\"}},\"renderers\":[{\"type\":\"object\",\"name\":\"GlyphRenderer\",\"id\":\"912d23e8-9796-4ac1-aeec-fa5329d425b4\",\"attributes\":{\"data_source\":{\"type\":\"object\",\"name\":\"ColumnDataSource\",\"id\":\"bcc120f4-32d3-4455-b883-83c7bb472719\",\"attributes\":{\"selected\":{\"type\":\"object\",\"name\":\"Selection\",\"id\":\"0b089bb8-c668-4750-b0ae-ef98bb16b23e\",\"attributes\":{\"indices\":[],\"line_indices\":[]}},\"selection_policy\":{\"type\":\"object\",\"name\":\"UnionRenderers\",\"id\":\"9324c90c-bc67-47cb-94c8-ec94694bd74b\"},\"data\":{\"type\":\"map\",\"entries\":[[\"date\",{\"type\":\"ndarray\",\"array\":{\"type\":\"bytes\",\"data\":\"AACArWt0b0IAAICo9MJvQgAAwNG+CHBCAACA6bAvcEIAAABn9VZwQgAAgOQ5fnBCAABA/CulcEIAAMB5cMxwQgAAQPe083BCAAAAD6cacUIAAICM60FxQgAAAAowaXFCAACAh3SQcUIAAAAFubdxQgAAgIL93nFCAABAmu8FckIAAMAXNC1yQgAAQJV4VHJCAAAArWp7ckIAAIAqr6JyQgAAAKjzyXJCAADAv+XwckIAAEA9KhhzQgAAwLpuP3NCAABAOLNmc0IAAMC1941zQgAAQDM8tXNCAAAASy7cc0IAAIDIcgN0QgAAAEa3KnRCAAAAAAAA+H8AAAAAAAD4fwAAAAAAAPh/AAAAAAAA+H8AAAAAAAD4fwAAAAAAAPh/AAAAAAAA+H8AAAAAAAD4fwAAAAAAAPh/AAAAAAAA+H8=\"},\"shape\":[40],\"dtype\":\"float64\",\"order\":\"little\"}],[\"len\",{\"type\":\"ndarray\",\"array\":{\"type\":\"bytes\",\"data\":\"Dg4AACsPAABAEAAAtg8AAMAPAABiDwAA6REAAA4PAAADDwAALRAAACwQAAAdDQAAyg8AADMQAAAYEAAAwxEAALkTAABzEwAAvxcAAMwXAAB1FgAA7hcAAPUWAACnFwAAphcAABIaAAD0FwAAPhkAAEsXAABzFQAATBAAADMNAACLFAAAaBAAAAoYAADbEAAA3hYAADEZAADWGAAAKhAAAA==\"},\"shape\":[40],\"dtype\":\"uint32\",\"order\":\"little\"}]]}}},\"view\":{\"type\":\"object\",\"name\":\"CDSView\",\"id\":\"5e3e9516-35ad-4764-9b39-e97d2049740a\",\"attributes\":{\"filter\":{\"type\":\"object\",\"name\":\"AllIndices\",\"id\":\"836d0390-5a61-4ec0-8bba-a7a0958d7e26\"}}},\"glyph\":{\"type\":\"object\",\"name\":\"Line\",\"id\":\"e33d87ec-1532-4736-9701-c9a21c1e9eed\",\"attributes\":{\"tags\":[\"apply_ranges\"],\"x\":{\"type\":\"field\",\"field\":\"date\"},\"y\":{\"type\":\"field\",\"field\":\"len\"},\"line_color\":\"#30a2da\",\"line_width\":2}},\"selection_glyph\":{\"type\":\"object\",\"name\":\"Line\",\"id\":\"aacfc599-5619-413f-b6ed-3919ac2a36a5\",\"attributes\":{\"tags\":[\"apply_ranges\"],\"x\":{\"type\":\"field\",\"field\":\"date\"},\"y\":{\"type\":\"field\",\"field\":\"len\"},\"line_color\":\"#30a2da\",\"line_width\":2}},\"nonselection_glyph\":{\"type\":\"object\",\"name\":\"Line\",\"id\":\"598fb004-297a-4433-b174-ded4e13e4a64\",\"attributes\":{\"tags\":[\"apply_ranges\"],\"x\":{\"type\":\"field\",\"field\":\"date\"},\"y\":{\"type\":\"field\",\"field\":\"len\"},\"line_color\":\"#30a2da\",\"line_alpha\":0.1,\"line_width\":2}},\"muted_glyph\":{\"type\":\"object\",\"name\":\"Line\",\"id\":\"ddae04b7-c0d2-492d-8be4-6568206596ea\",\"attributes\":{\"tags\":[\"apply_ranges\"],\"x\":{\"type\":\"field\",\"field\":\"date\"},\"y\":{\"type\":\"field\",\"field\":\"len\"},\"line_color\":\"#30a2da\",\"line_alpha\":0.2,\"line_width\":2}}}}],\"toolbar\":{\"type\":\"object\",\"name\":\"Toolbar\",\"id\":\"ceb19c5d-91b5-4326-b651-cefe709278f2\",\"attributes\":{\"tools\":[{\"type\":\"object\",\"name\":\"WheelZoomTool\",\"id\":\"07509a7f-158b-4141-aee4-831cfb4c2d31\",\"attributes\":{\"tags\":[\"hv_created\"],\"renderers\":\"auto\",\"zoom_together\":\"none\"}},{\"type\":\"object\",\"name\":\"HoverTool\",\"id\":\"4193841b-4076-4245-a71e-e216148b1968\",\"attributes\":{\"tags\":[\"hv_created\"],\"renderers\":[{\"id\":\"912d23e8-9796-4ac1-aeec-fa5329d425b4\"}],\"tooltips\":[[\"date\",\"@{date}{%F %T}\"],[\"len\",\"@{len}\"]],\"formatters\":{\"type\":\"map\",\"entries\":[[\"@{date}\",\"datetime\"]]}}},{\"type\":\"object\",\"name\":\"SaveTool\",\"id\":\"cf40550c-1050-43d1-ba1c-48b5337d43ae\"},{\"type\":\"object\",\"name\":\"PanTool\",\"id\":\"48ba9d31-6264-478a-ad52-e81889716142\"},{\"type\":\"object\",\"name\":\"BoxZoomTool\",\"id\":\"d1550613-70cc-4db3-9ead-749776adf090\",\"attributes\":{\"overlay\":{\"type\":\"object\",\"name\":\"BoxAnnotation\",\"id\":\"d1723452-7eef-40f6-a55a-2d21a90c920b\",\"attributes\":{\"syncable\":false,\"line_color\":\"black\",\"line_alpha\":1.0,\"line_width\":2,\"line_dash\":[4,4],\"fill_color\":\"lightgrey\",\"fill_alpha\":0.5,\"level\":\"overlay\",\"visible\":false,\"left\":{\"type\":\"number\",\"value\":\"nan\"},\"right\":{\"type\":\"number\",\"value\":\"nan\"},\"top\":{\"type\":\"number\",\"value\":\"nan\"},\"bottom\":{\"type\":\"number\",\"value\":\"nan\"},\"left_units\":\"canvas\",\"right_units\":\"canvas\",\"top_units\":\"canvas\",\"bottom_units\":\"canvas\",\"handles\":{\"type\":\"object\",\"name\":\"BoxInteractionHandles\",\"id\":\"69c0f62f-39a6-4a76-9ddc-103b194110d9\",\"attributes\":{\"all\":{\"type\":\"object\",\"name\":\"AreaVisuals\",\"id\":\"78c53d13-f9f6-40e9-bbb3-db61ba98b937\",\"attributes\":{\"fill_color\":\"white\",\"hover_fill_color\":\"lightgray\"}}}}}}}},{\"type\":\"object\",\"name\":\"ResetTool\",\"id\":\"3e2a191d-18fb-48d8-b876-72918df12842\"}],\"active_drag\":{\"id\":\"48ba9d31-6264-478a-ad52-e81889716142\"},\"active_scroll\":{\"id\":\"07509a7f-158b-4141-aee4-831cfb4c2d31\"}}},\"left\":[{\"type\":\"object\",\"name\":\"LinearAxis\",\"id\":\"3b4a3296-416d-4120-8b93-19a6ed5e94fc\",\"attributes\":{\"ticker\":{\"type\":\"object\",\"name\":\"BasicTicker\",\"id\":\"7eb799f1-d883-456b-a5e5-18e5e55476ee\",\"attributes\":{\"mantissas\":[1,2,5]}},\"formatter\":{\"type\":\"object\",\"name\":\"BasicTickFormatter\",\"id\":\"07a9ed6e-a6eb-4e92-9bfc-20866edc748c\"},\"axis_label\":\"len\",\"major_label_policy\":{\"type\":\"object\",\"name\":\"AllLabels\",\"id\":\"fbe78c69-2844-4ec1-9c19-14ec69177227\"}}}],\"below\":[{\"type\":\"object\",\"name\":\"DatetimeAxis\",\"id\":\"7e15de50-fbed-448e-9241-8737cb93eb4a\",\"attributes\":{\"ticker\":{\"type\":\"object\",\"name\":\"DatetimeTicker\",\"id\":\"f89c197d-c9ca-4f46-8d9e-787552b87729\",\"attributes\":{\"num_minor_ticks\":5,\"tickers\":[{\"type\":\"object\",\"name\":\"AdaptiveTicker\",\"id\":\"fad0c6f9-bc24-4210-a8b4-2e45af5d1643\",\"attributes\":{\"num_minor_ticks\":0,\"mantissas\":[1,2,5],\"max_interval\":500.0}},{\"type\":\"object\",\"name\":\"AdaptiveTicker\",\"id\":\"e3d3d1cf-4c61-46eb-98c7-cc02347fc5c9\",\"attributes\":{\"num_minor_ticks\":0,\"base\":60,\"mantissas\":[1,2,5,10,15,20,30],\"min_interval\":1000.0,\"max_interval\":1800000.0}},{\"type\":\"object\",\"name\":\"AdaptiveTicker\",\"id\":\"53ddacf0-19c1-4527-ad7f-ab9ae2d87509\",\"attributes\":{\"num_minor_ticks\":0,\"base\":24,\"mantissas\":[1,2,4,6,8,12],\"min_interval\":3600000.0,\"max_interval\":43200000.0}},{\"type\":\"object\",\"name\":\"DaysTicker\",\"id\":\"e0fcd952-4ac9-4f5e-9436-c9e27b2b4ffb\",\"attributes\":{\"days\":[1,2,3,4,5,6,7,8,9,10,11,12,13,14,15,16,17,18,19,20,21,22,23,24,25,26,27,28,29,30,31]}},{\"type\":\"object\",\"name\":\"DaysTicker\",\"id\":\"32020529-032e-4a7b-9b96-558bea32190c\",\"attributes\":{\"days\":[1,4,7,10,13,16,19,22,25,28]}},{\"type\":\"object\",\"name\":\"DaysTicker\",\"id\":\"bdfb6bb4-d081-4d28-8e15-911fd763b41f\",\"attributes\":{\"days\":[1,8,15,22]}},{\"type\":\"object\",\"name\":\"DaysTicker\",\"id\":\"09b60cb3-0473-4655-bae4-29f3b2269db7\",\"attributes\":{\"days\":[1,15]}},{\"type\":\"object\",\"name\":\"MonthsTicker\",\"id\":\"f03bcc41-a812-402a-a79a-c018ef54a7c1\",\"attributes\":{\"months\":[0,1,2,3,4,5,6,7,8,9,10,11]}},{\"type\":\"object\",\"name\":\"MonthsTicker\",\"id\":\"d70ecd80-508f-451f-9e01-592551ec433b\",\"attributes\":{\"months\":[0,2,4,6,8,10]}},{\"type\":\"object\",\"name\":\"MonthsTicker\",\"id\":\"a496fa3e-b747-4850-8d2f-2eb687194281\",\"attributes\":{\"months\":[0,4,8]}},{\"type\":\"object\",\"name\":\"MonthsTicker\",\"id\":\"5e42b21f-9d4d-4d41-8620-0065ef239d17\",\"attributes\":{\"months\":[0,6]}},{\"type\":\"object\",\"name\":\"YearsTicker\",\"id\":\"4122c306-cac6-4ec6-90e1-b701274221f9\"}]}},\"formatter\":{\"type\":\"object\",\"name\":\"DatetimeTickFormatter\",\"id\":\"d9a406ff-9f51-4da8-b065-167a14dc631d\"},\"axis_label\":\"date\",\"major_label_policy\":{\"type\":\"object\",\"name\":\"AllLabels\",\"id\":\"7a3f6d23-a955-4519-97a0-9bd819490109\"}}}],\"center\":[{\"type\":\"object\",\"name\":\"Grid\",\"id\":\"ada8ad8f-ea61-48d1-af78-376b6158377e\",\"attributes\":{\"axis\":{\"id\":\"7e15de50-fbed-448e-9241-8737cb93eb4a\"},\"grid_line_color\":null}},{\"type\":\"object\",\"name\":\"Grid\",\"id\":\"2076e095-f24a-41d9-979c-a62ba2cc7714\",\"attributes\":{\"dimension\":1,\"axis\":{\"id\":\"3b4a3296-416d-4120-8b93-19a6ed5e94fc\"},\"grid_line_color\":null}},{\"type\":\"object\",\"name\":\"Whisker\",\"id\":\"6c84c0be-8b8e-4cf0-83de-d1a65a2e4c1e\",\"attributes\":{\"source\":{\"type\":\"object\",\"name\":\"ColumnDataSource\",\"id\":\"926d9934-8c46-4bbe-893a-e0059a0b660e\",\"attributes\":{\"selected\":{\"type\":\"object\",\"name\":\"Selection\",\"id\":\"41588785-26bd-4adf-b7c2-8db06f26ad47\",\"attributes\":{\"indices\":[],\"line_indices\":[]}},\"selection_policy\":{\"type\":\"object\",\"name\":\"UnionRenderers\",\"id\":\"449ecc80-399d-4a84-9587-ffe6c580817f\"},\"data\":{\"type\":\"map\",\"entries\":[[\"base\",{\"type\":\"ndarray\",\"array\":{\"type\":\"bytes\",\"data\":\"AACArWt0b0IAAICo9MJvQgAAwNG+CHBCAACA6bAvcEIAAABn9VZwQgAAgOQ5fnBCAABA/CulcEIAAMB5cMxwQgAAQPe083BCAAAAD6cacUIAAICM60FxQgAAAAowaXFCAACAh3SQcUIAAAAFubdxQgAAgIL93nFCAABAmu8FckIAAMAXNC1yQgAAQJV4VHJCAAAArWp7ckIAAIAqr6JyQgAAAKjzyXJCAADAv+XwckIAAEA9KhhzQgAAwLpuP3NCAABAOLNmc0IAAMC1941zQgAAQDM8tXNCAAAASy7cc0IAAIDIcgN0QgAAAEa3KnRCAAAAAAAA+H8AAAAAAAD4fwAAAAAAAPh/AAAAAAAA+H8AAAAAAAD4fwAAAAAAAPh/AAAAAAAA+H8AAAAAAAD4fwAAAAAAAPh/AAAAAAAA+H8=\"},\"shape\":[40],\"dtype\":\"float64\",\"order\":\"little\"}],[\"lower\",{\"type\":\"ndarray\",\"array\":{\"type\":\"bytes\",\"data\":\"dsFqGDu8qEB2wWoYO/aqQHbBahg7IK1AdsFqGDsMrEB2wWoYOyCsQHbBahg7ZKtAu2A1jB05sEB2wWoYO7yqQHbBahg7pqpAdsFqGDv6rEB2wWoYO/isQHbBahg72qZAdsFqGDs0rEB2wWoYOwatQHbBahg70KxAu2A1jB0TsEC7YDWMHQmyQLtgNYwdw7FAu2A1jB0PtkC7YDWMHRy2QLtgNYwdxbRAu2A1jB0+tkC7YDWMHUW1QLtgNYwd97VAu2A1jB32tUC7YDWMHWK4QLtgNYwdRLZAu2A1jB2Ot0C7YDWMHZu1QLtgNYwdw7NAdsFqGDs4rUB2wWoYOwanQLtgNYwd27JAdsFqGDtwrUC7YDWMHVq2QHbBahg7Vq5Au2A1jB0utUC7YDWMHYG3QLtgNYwdJrdAdsFqGDv0rEA=\"},\"shape\":[40],\"dtype\":\"float64\",\"order\":\"little\"}],[\"upper\",{\"type\":\"ndarray\",\"array\":{\"type\":\"bytes\",\"data\":\"ij6V58R7r0BFn8pz4tqwQEWfynPi77FARZ/Kc+JlsUBFn8pz4m+xQEWfynPiEbFARZ/Kc+KYs0BFn8pz4r2wQEWfynPisrBARZ/Kc+LcsUBFn8pz4tuxQIo+lefEma1ARZ/Kc+J5sUBFn8pz4uKxQEWfynPix7FARZ/Kc+Jys0BFn8pz4mi1QEWfynPiIrVARZ/Kc+JuuUBFn8pz4nu5QEWfynPiJLhARZ/Kc+KduUBFn8pz4qS4QEWfynPiVrlARZ/Kc+JVuUBFn8pz4sG7QEWfynPio7lARZ/Kc+LtukBFn8pz4vq4QEWfynPiIrdARZ/Kc+L7sUCKPpXnxMWtQEWfynPiOrZARZ/Kc+IXskBFn8pz4rm5QEWfynPiirJARZ/Kc+KNuEBFn8pz4uC6QEWfynPihbpARZ/Kc+LZsUA=\"},\"shape\":[40],\"dtype\":\"float64\",\"order\":\"little\"}]]}}},\"lower\":{\"type\":\"field\",\"field\":\"lower\"},\"lower_head\":{\"type\":\"object\",\"name\":\"TeeHead\",\"id\":\"84eea8b2-cd66-4796-8c7d-3cf6703dcdf2\",\"attributes\":{\"size\":{\"type\":\"value\",\"value\":10}}},\"upper\":{\"type\":\"field\",\"field\":\"upper\"},\"upper_head\":{\"type\":\"object\",\"name\":\"TeeHead\",\"id\":\"6ea95b38-5eab-4690-a2dc-651598443ec0\",\"attributes\":{\"size\":{\"type\":\"value\",\"value\":10}}},\"base\":{\"type\":\"field\",\"field\":\"base\"}}}],\"min_border_top\":10,\"min_border_bottom\":10,\"min_border_left\":10,\"min_border_right\":10,\"output_backend\":\"webgl\"}},{\"type\":\"object\",\"name\":\"Spacer\",\"id\":\"28df4e77-5680-41cf-b184-ed7e688d3d39\",\"attributes\":{\"name\":\"HSpacer00547\",\"stylesheets\":[\"\\n:host(.pn-loading):before, .pn-loading:before {\\n  background-color: #c3c3c3;\\n  mask-size: auto calc(min(50%, 400px));\\n  -webkit-mask-size: auto calc(min(50%, 400px));\\n}\",{\"id\":\"726a19a6-2d2c-4eb1-887c-82e2c58db36a\"},{\"id\":\"21ed6a9e-d443-45f9-afa0-a4777eb828ef\"},{\"id\":\"d95094a7-cca9-4e2c-8636-72a72612e388\"}],\"margin\":0,\"sizing_mode\":\"stretch_width\",\"align\":\"start\"}}]}}],\"defs\":[{\"type\":\"model\",\"name\":\"ReactiveHTML1\"},{\"type\":\"model\",\"name\":\"FlexBox1\",\"properties\":[{\"name\":\"align_content\",\"kind\":\"Any\",\"default\":\"flex-start\"},{\"name\":\"align_items\",\"kind\":\"Any\",\"default\":\"flex-start\"},{\"name\":\"flex_direction\",\"kind\":\"Any\",\"default\":\"row\"},{\"name\":\"flex_wrap\",\"kind\":\"Any\",\"default\":\"wrap\"},{\"name\":\"gap\",\"kind\":\"Any\",\"default\":\"\"},{\"name\":\"justify_content\",\"kind\":\"Any\",\"default\":\"flex-start\"}]},{\"type\":\"model\",\"name\":\"FloatPanel1\",\"properties\":[{\"name\":\"config\",\"kind\":\"Any\",\"default\":{\"type\":\"map\"}},{\"name\":\"contained\",\"kind\":\"Any\",\"default\":true},{\"name\":\"position\",\"kind\":\"Any\",\"default\":\"right-top\"},{\"name\":\"offsetx\",\"kind\":\"Any\",\"default\":null},{\"name\":\"offsety\",\"kind\":\"Any\",\"default\":null},{\"name\":\"theme\",\"kind\":\"Any\",\"default\":\"primary\"},{\"name\":\"status\",\"kind\":\"Any\",\"default\":\"normalized\"}]},{\"type\":\"model\",\"name\":\"GridStack1\",\"properties\":[{\"name\":\"mode\",\"kind\":\"Any\",\"default\":\"warn\"},{\"name\":\"ncols\",\"kind\":\"Any\",\"default\":null},{\"name\":\"nrows\",\"kind\":\"Any\",\"default\":null},{\"name\":\"allow_resize\",\"kind\":\"Any\",\"default\":true},{\"name\":\"allow_drag\",\"kind\":\"Any\",\"default\":true},{\"name\":\"state\",\"kind\":\"Any\",\"default\":[]}]},{\"type\":\"model\",\"name\":\"drag1\",\"properties\":[{\"name\":\"slider_width\",\"kind\":\"Any\",\"default\":5},{\"name\":\"slider_color\",\"kind\":\"Any\",\"default\":\"black\"},{\"name\":\"value\",\"kind\":\"Any\",\"default\":50}]},{\"type\":\"model\",\"name\":\"click1\",\"properties\":[{\"name\":\"terminal_output\",\"kind\":\"Any\",\"default\":\"\"},{\"name\":\"debug_name\",\"kind\":\"Any\",\"default\":\"\"},{\"name\":\"clears\",\"kind\":\"Any\",\"default\":0}]},{\"type\":\"model\",\"name\":\"FastWrapper1\",\"properties\":[{\"name\":\"object\",\"kind\":\"Any\",\"default\":null},{\"name\":\"style\",\"kind\":\"Any\",\"default\":null}]},{\"type\":\"model\",\"name\":\"NotificationAreaBase1\",\"properties\":[{\"name\":\"js_events\",\"kind\":\"Any\",\"default\":{\"type\":\"map\"}},{\"name\":\"position\",\"kind\":\"Any\",\"default\":\"bottom-right\"},{\"name\":\"_clear\",\"kind\":\"Any\",\"default\":0}]},{\"type\":\"model\",\"name\":\"NotificationArea1\",\"properties\":[{\"name\":\"js_events\",\"kind\":\"Any\",\"default\":{\"type\":\"map\"}},{\"name\":\"notifications\",\"kind\":\"Any\",\"default\":[]},{\"name\":\"position\",\"kind\":\"Any\",\"default\":\"bottom-right\"},{\"name\":\"_clear\",\"kind\":\"Any\",\"default\":0},{\"name\":\"types\",\"kind\":\"Any\",\"default\":[{\"type\":\"map\",\"entries\":[[\"type\",\"warning\"],[\"background\",\"#ffc107\"],[\"icon\",{\"type\":\"map\",\"entries\":[[\"className\",\"fas fa-exclamation-triangle\"],[\"tagName\",\"i\"],[\"color\",\"white\"]]}]]},{\"type\":\"map\",\"entries\":[[\"type\",\"info\"],[\"background\",\"#007bff\"],[\"icon\",{\"type\":\"map\",\"entries\":[[\"className\",\"fas fa-info-circle\"],[\"tagName\",\"i\"],[\"color\",\"white\"]]}]]}]}]},{\"type\":\"model\",\"name\":\"Notification\",\"properties\":[{\"name\":\"background\",\"kind\":\"Any\",\"default\":null},{\"name\":\"duration\",\"kind\":\"Any\",\"default\":3000},{\"name\":\"icon\",\"kind\":\"Any\",\"default\":null},{\"name\":\"message\",\"kind\":\"Any\",\"default\":\"\"},{\"name\":\"notification_type\",\"kind\":\"Any\",\"default\":null},{\"name\":\"_rendered\",\"kind\":\"Any\",\"default\":false},{\"name\":\"_destroyed\",\"kind\":\"Any\",\"default\":false}]},{\"type\":\"model\",\"name\":\"TemplateActions1\",\"properties\":[{\"name\":\"open_modal\",\"kind\":\"Any\",\"default\":0},{\"name\":\"close_modal\",\"kind\":\"Any\",\"default\":0}]},{\"type\":\"model\",\"name\":\"BootstrapTemplateActions1\",\"properties\":[{\"name\":\"open_modal\",\"kind\":\"Any\",\"default\":0},{\"name\":\"close_modal\",\"kind\":\"Any\",\"default\":0}]},{\"type\":\"model\",\"name\":\"TemplateEditor1\",\"properties\":[{\"name\":\"layout\",\"kind\":\"Any\",\"default\":[]}]},{\"type\":\"model\",\"name\":\"MaterialTemplateActions1\",\"properties\":[{\"name\":\"open_modal\",\"kind\":\"Any\",\"default\":0},{\"name\":\"close_modal\",\"kind\":\"Any\",\"default\":0}]},{\"type\":\"model\",\"name\":\"ReactiveESM1\",\"properties\":[{\"name\":\"esm_constants\",\"kind\":\"Any\",\"default\":{\"type\":\"map\"}}]},{\"type\":\"model\",\"name\":\"JSComponent1\",\"properties\":[{\"name\":\"esm_constants\",\"kind\":\"Any\",\"default\":{\"type\":\"map\"}}]},{\"type\":\"model\",\"name\":\"ReactComponent1\",\"properties\":[{\"name\":\"esm_constants\",\"kind\":\"Any\",\"default\":{\"type\":\"map\"}}]},{\"type\":\"model\",\"name\":\"AnyWidgetComponent1\",\"properties\":[{\"name\":\"esm_constants\",\"kind\":\"Any\",\"default\":{\"type\":\"map\"}}]},{\"type\":\"model\",\"name\":\"request_value1\",\"properties\":[{\"name\":\"fill\",\"kind\":\"Any\",\"default\":\"none\"},{\"name\":\"_synced\",\"kind\":\"Any\",\"default\":null},{\"name\":\"_request_sync\",\"kind\":\"Any\",\"default\":0}]}]}};\n",
       "  var render_items = [{\"docid\":\"fe0a266e-025b-4872-a680-2653a096ee1e\",\"roots\":{\"448f5c73-13b1-4e20-92d0-421674a7e779\":\"c01e4669-1aee-4ef3-b084-02dfcfa55d6d\"},\"root_ids\":[\"448f5c73-13b1-4e20-92d0-421674a7e779\"]}];\n",
       "  var docs = Object.values(docs_json)\n",
       "  if (!docs) {\n",
       "    return\n",
       "  }\n",
       "  const py_version = docs[0].version.replace('rc', '-rc.').replace('.dev', '-dev.')\n",
       "  async function embed_document(root) {\n",
       "    var Bokeh = get_bokeh(root)\n",
       "    await Bokeh.embed.embed_items_notebook(docs_json, render_items);\n",
       "    for (const render_item of render_items) {\n",
       "      for (const root_id of render_item.root_ids) {\n",
       "\tconst id_el = document.getElementById(root_id)\n",
       "\tif (id_el.children.length && id_el.children[0].hasAttribute('data-root-id')) {\n",
       "\t  const root_el = id_el.children[0]\n",
       "\t  root_el.id = root_el.id + '-rendered'\n",
       "\t  for (const child of root_el.children) {\n",
       "            // Ensure JupyterLab does not capture keyboard shortcuts\n",
       "            // see: https://jupyterlab.readthedocs.io/en/4.1.x/extension/notebook.html#keyboard-interaction-model\n",
       "\t    child.setAttribute('data-lm-suppress-shortcuts', 'true')\n",
       "\t  }\n",
       "\t}\n",
       "      }\n",
       "    }\n",
       "  }\n",
       "  function get_bokeh(root) {\n",
       "    if (root.Bokeh === undefined) {\n",
       "      return null\n",
       "    } else if (root.Bokeh.version !== py_version) {\n",
       "      if (root.Bokeh.versions === undefined || !root.Bokeh.versions.has(py_version)) {\n",
       "\treturn null\n",
       "      }\n",
       "      return root.Bokeh.versions.get(py_version);\n",
       "    } else if (root.Bokeh.version === py_version) {\n",
       "      return root.Bokeh\n",
       "    }\n",
       "    return null\n",
       "  }\n",
       "  function is_loaded(root) {\n",
       "    var Bokeh = get_bokeh(root)\n",
       "    return (Bokeh != null && Bokeh.Panel !== undefined)\n",
       "  }\n",
       "  if (is_loaded(root)) {\n",
       "    embed_document(root);\n",
       "  } else {\n",
       "    var attempts = 0;\n",
       "    var timer = setInterval(function(root) {\n",
       "      if (is_loaded(root)) {\n",
       "        clearInterval(timer);\n",
       "        embed_document(root);\n",
       "      } else if (document.readyState == \"complete\") {\n",
       "        attempts++;\n",
       "        if (attempts > 200) {\n",
       "          clearInterval(timer);\n",
       "\t  var Bokeh = get_bokeh(root)\n",
       "\t  if (Bokeh == null || Bokeh.Panel == null) {\n",
       "            console.warn(\"Panel: ERROR: Unable to run Panel code because Bokeh or Panel library is missing\");\n",
       "\t  } else {\n",
       "\t    console.warn(\"Panel: WARNING: Attempting to render but not all required libraries could be resolved.\")\n",
       "\t    embed_document(root)\n",
       "\t  }\n",
       "        }\n",
       "      }\n",
       "    }, 25, root)\n",
       "  }\n",
       "})(window);</script>"
      ],
      "text/plain": [
       ":Overlay\n",
       "   .Curve.I     :Curve   [date]   (len)\n",
       "   .ErrorBars.I :ErrorBars   [date]   (len,accuracy)"
      ]
     },
     "execution_count": 34,
     "metadata": {
      "application/vnd.holoviews_exec.v0+json": {
       "id": "448f5c73-13b1-4e20-92d0-421674a7e779"
      }
     },
     "output_type": "execute_result"
    }
   ],
   "source": [
    "df = query_quarterly_counts.release().collect()\n",
    "\n",
    "# build a date column\n",
    "df = df.with_columns(pl.date(pl.col(\"YEAR\"), pl.col(\"QUARTER\") * 4, 1))\n",
    "\n",
    "line = df.hvplot.line(x=\"date\", y=\"len\")\n",
    "errorbars = df.with_columns(accuracy=summary[\"accuracy\"][0]) \\\n",
    "    .hvplot.errorbars(x=\"date\", y=\"len\", yerr1=\"accuracy\")\n",
    "line * errorbars"
   ]
  },
  {
   "cell_type": "markdown",
   "metadata": {},
   "source": [
    "Invariant keys"
   ]
  },
  {
   "cell_type": "code",
   "execution_count": null,
   "metadata": {},
   "outputs": [],
   "source": [
    "lf_preprocessed = pl.scan_csv(dp.examples.get_france_lfs_path(), ignore_errors=True) \\\n",
    "    .filter(pl.col(\"HWUSUAL\") < 99)"
   ]
  },
  {
   "cell_type": "code",
   "execution_count": null,
   "metadata": {},
   "outputs": [],
   "source": [
    "context = dp.Context.compositor(\n",
    "    data=lf_preprocessed,\n",
    "    privacy_unit=dp.unit_of(contributions=36),\n",
    "    privacy_loss=dp.loss_of(epsilon=1.0, delta=0),\n",
    "    split_evenly_over=1,\n",
    "    margins={\n",
    "        # total number of responses when grouped by \"SEX\" is public information\n",
    "        (\"SEX\",): dp.polars.Margin(\n",
    "            public_info=\"lengths\",\n",
    "            max_partition_length=60_000_000, # population of France\n",
    "            max_num_partitions=1,\n",
    "        )\n",
    "    },\n",
    ")"
   ]
  },
  {
   "cell_type": "code",
   "execution_count": null,
   "metadata": {},
   "outputs": [
    {
     "data": {
      "text/html": [
       "<div><style>\n",
       ".dataframe > thead > tr,\n",
       ".dataframe > tbody > tr {\n",
       "  text-align: right;\n",
       "  white-space: pre-wrap;\n",
       "}\n",
       "</style>\n",
       "<small>shape: (2, 5)</small><table border=\"1\" class=\"dataframe\"><thead><tr><th>column</th><th>aggregate</th><th>distribution</th><th>scale</th><th>accuracy</th></tr><tr><td>str</td><td>str</td><td>str</td><td>f64</td><td>f64</td></tr></thead><tbody><tr><td>&quot;HWUSUAL&quot;</td><td>&quot;Sum&quot;</td><td>&quot;Integer Laplace&quot;</td><td>1764.0</td><td>5284.97166</td></tr><tr><td>&quot;HWUSUAL&quot;</td><td>&quot;Length&quot;</td><td>&quot;Integer Laplace&quot;</td><td>0.0</td><td>NaN</td></tr></tbody></table></div>"
      ],
      "text/plain": [
       "shape: (2, 5)\n",
       "┌─────────┬───────────┬─────────────────┬────────┬────────────┐\n",
       "│ column  ┆ aggregate ┆ distribution    ┆ scale  ┆ accuracy   │\n",
       "│ ---     ┆ ---       ┆ ---             ┆ ---    ┆ ---        │\n",
       "│ str     ┆ str       ┆ str             ┆ f64    ┆ f64        │\n",
       "╞═════════╪═══════════╪═════════════════╪════════╪════════════╡\n",
       "│ HWUSUAL ┆ Sum       ┆ Integer Laplace ┆ 1764.0 ┆ 5284.97166 │\n",
       "│ HWUSUAL ┆ Length    ┆ Integer Laplace ┆ 0.0    ┆ NaN        │\n",
       "└─────────┴───────────┴─────────────────┴────────┴────────────┘"
      ]
     },
     "execution_count": 49,
     "metadata": {},
     "output_type": "execute_result"
    }
   ],
   "source": [
    "query_work_hours = (\n",
    "    context.query()\n",
    "    .group_by(\"SEX\")\n",
    "    .agg(pl.col.HWUSUAL.cast(int).fill_null(0).dp.mean((0, 98)))\n",
    ")\n",
    "\n",
    "query_work_hours.summarize(alpha=.05)"
   ]
  },
  {
   "cell_type": "code",
   "execution_count": 50,
   "metadata": {},
   "outputs": [
    {
     "data": {
      "text/html": [
       "<div><style>\n",
       ".dataframe > thead > tr,\n",
       ".dataframe > tbody > tr {\n",
       "  text-align: right;\n",
       "  white-space: pre-wrap;\n",
       "}\n",
       "</style>\n",
       "<small>shape: (2, 3)</small><table border=\"1\" class=\"dataframe\"><thead><tr><th>SEX</th><th>SEX_STR</th><th>HWUSUAL</th></tr><tr><td>i64</td><td>str</td><td>f64</td></tr></thead><tbody><tr><td>1</td><td>&quot;male&quot;</td><td>40.819268</td></tr><tr><td>2</td><td>&quot;female&quot;</td><td>34.15606</td></tr></tbody></table></div>"
      ],
      "text/plain": [
       "shape: (2, 3)\n",
       "┌─────┬─────────┬───────────┐\n",
       "│ SEX ┆ SEX_STR ┆ HWUSUAL   │\n",
       "│ --- ┆ ---     ┆ ---       │\n",
       "│ i64 ┆ str     ┆ f64       │\n",
       "╞═════╪═════════╪═══════════╡\n",
       "│ 1   ┆ male    ┆ 40.819268 │\n",
       "│ 2   ┆ female  ┆ 34.15606  │\n",
       "└─────┴─────────┴───────────┘"
      ]
     },
     "execution_count": 50,
     "metadata": {},
     "output_type": "execute_result"
    }
   ],
   "source": [
    "df = query_work_hours.release().collect()\n",
    "\n",
    "# released dataframes from the OpenDP Library are shuffled to conceal the ordering of rows in the original dataset\n",
    "# therefore, to ensure proper alignment, we use join instead of hstack to add labels\n",
    "pl.DataFrame({\"SEX\": [1, 2], \"SEX_STR\": [\"male\", \"female\"]}).join(df, on=\"SEX\")"
   ]
  }
 ],
 "metadata": {
  "kernelspec": {
   "display_name": "base",
   "language": "python",
   "name": "python3"
  },
  "language_info": {
   "codemirror_mode": {
    "name": "ipython",
    "version": 3
   },
   "file_extension": ".py",
   "mimetype": "text/x-python",
   "name": "python",
   "nbconvert_exporter": "python",
   "pygments_lexer": "ipython3",
   "version": "3.12.9"
  }
 },
 "nbformat": 4,
 "nbformat_minor": 2
}
