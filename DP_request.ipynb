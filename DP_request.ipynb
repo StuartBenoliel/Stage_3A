{
 "cells": [
  {
   "cell_type": "markdown",
   "metadata": {},
   "source": [
    "# Mes premières requêtes solo"
   ]
  },
  {
   "cell_type": "code",
   "execution_count": null,
   "metadata": {},
   "outputs": [],
   "source": [
    "%pip install opendp\n",
    "%pip install 'opendp[polars]'\n",
    "%pip install hvplot"
   ]
  },
  {
   "cell_type": "code",
   "execution_count": 166,
   "metadata": {},
   "outputs": [],
   "source": [
    "import opendp.prelude as dp\n",
    "import polars as pl\n",
    "\n",
    "dp.enable_features(\"contrib\")\n",
    "\n",
    "df = pl.scan_csv(dp.examples.get_california_pums_path(), has_header=False, ignore_errors=True)"
   ]
  },
  {
   "cell_type": "code",
   "execution_count": 167,
   "metadata": {},
   "outputs": [],
   "source": [
    "# the greatest number of records that any one individual can influence in the dataset\n",
    "max_influence = 1\n",
    "# establish public information\n",
    "col_names = [\"age\", \"sex\", \"educ\", \"race\", \"income\", \"married\"]\n",
    "# we can also reasonably intuit that age and income will be numeric,\n",
    "#     as well as bounds for them, without looking at the data\n",
    "age_bounds = (0, 100)\n",
    "income_bounds = (0, 150_000)"
   ]
  },
  {
   "cell_type": "code",
   "execution_count": 168,
   "metadata": {},
   "outputs": [
    {
     "data": {
      "text/plain": [
       "Schema([('age', Int64),\n",
       "        ('sex', Int64),\n",
       "        ('educ', Int64),\n",
       "        ('race', Int64),\n",
       "        ('income', Int64),\n",
       "        ('married', Int64)])"
      ]
     },
     "execution_count": 168,
     "metadata": {},
     "output_type": "execute_result"
    }
   ],
   "source": [
    "df = df.collect()\n",
    "\n",
    "# Renommer les colonnes\n",
    "df = df.rename({old: new for old, new in zip(df.columns, col_names)}).lazy()\n",
    "\n",
    "df.collect_schema()"
   ]
  },
  {
   "cell_type": "code",
   "execution_count": null,
   "metadata": {},
   "outputs": [],
   "source": [
    "df.collect().shape\n",
    "df.head().collect()"
   ]
  },
  {
   "cell_type": "markdown",
   "metadata": {},
   "source": [
    "# OpenDP"
   ]
  },
  {
   "cell_type": "code",
   "execution_count": 169,
   "metadata": {},
   "outputs": [
    {
     "name": "stderr",
     "output_type": "stream",
     "text": [
      "epsilon should be less than or equal to 5, and is typically less than or equal to 1\n"
     ]
    }
   ],
   "source": [
    "# Nécessite un LazyDataframe\n",
    "context = dp.Context.compositor(\n",
    "    data=df,\n",
    "    privacy_unit=dp.unit_of(contributions=1),\n",
    "    privacy_loss=dp.loss_of(epsilon=10.0, delta=1e-7),\n",
    "    split_evenly_over=10,\n",
    "    margins={\n",
    "        # when data is not grouped (empty tuple)...\n",
    "        (): dp.polars.Margin(\n",
    "            # ...the biggest (and only) partition is no larger than\n",
    "            #    France population * number of quarters\n",
    "            max_partition_length= 1_0000\n",
    "        ),\n",
    "         # partition keys when grouped by \"race\" are invariant\n",
    "        (\"race\",): dp.polars.Margin(\n",
    "            public_info=\"keys\",\n",
    "        )\n",
    "    },\n",
    ")\n"
   ]
  },
  {
   "cell_type": "code",
   "execution_count": null,
   "metadata": {},
   "outputs": [
    {
     "data": {
      "text/html": [
       "<div><style>\n",
       ".dataframe > thead > tr,\n",
       ".dataframe > tbody > tr {\n",
       "  text-align: right;\n",
       "  white-space: pre-wrap;\n",
       "}\n",
       "</style>\n",
       "<small>shape: (2, 5)</small><table border=\"1\" class=\"dataframe\"><thead><tr><th>column</th><th>aggregate</th><th>distribution</th><th>scale</th><th>accuracy</th></tr><tr><td>str</td><td>str</td><td>str</td><td>f64</td><td>f64</td></tr></thead><tbody><tr><td>&quot;Somme des ages&quot;</td><td>&quot;Sum&quot;</td><td>&quot;Integer Laplace&quot;</td><td>200.0</td><td>599.64583</td></tr><tr><td>&quot;Taille dataset&quot;</td><td>&quot;Frame Length&quot;</td><td>&quot;Integer Laplace&quot;</td><td>2.0</td><td>6.429605</td></tr></tbody></table></div>"
      ],
      "text/plain": [
       "shape: (2, 5)\n",
       "┌────────────────┬──────────────┬─────────────────┬───────┬───────────┐\n",
       "│ column         ┆ aggregate    ┆ distribution    ┆ scale ┆ accuracy  │\n",
       "│ ---            ┆ ---          ┆ ---             ┆ ---   ┆ ---       │\n",
       "│ str            ┆ str          ┆ str             ┆ f64   ┆ f64       │\n",
       "╞════════════════╪══════════════╪═════════════════╪═══════╪═══════════╡\n",
       "│ Somme des ages ┆ Sum          ┆ Integer Laplace ┆ 200.0 ┆ 599.64583 │\n",
       "│ Taille dataset ┆ Frame Length ┆ Integer Laplace ┆ 2.0   ┆ 6.429605  │\n",
       "└────────────────┴──────────────┴─────────────────┴───────┴───────────┘"
      ]
     },
     "execution_count": 170,
     "metadata": {},
     "output_type": "execute_result"
    }
   ],
   "source": [
    "query = (\n",
    "    context.query()\n",
    "    .select(\n",
    "        pl.col(\"age\")\n",
    "        .cast(int)\n",
    "        .fill_null(0)\n",
    "        .dp.sum(bounds=(0, 100))\n",
    "        .alias(\"Somme des ages\"),\n",
    "\n",
    "        dp.len()\n",
    "        .alias(\"Taille dataset\")\n",
    "    )\n",
    ")\n",
    "# C'est compté comme une seule query en terme d'epsilon\n",
    "\n",
    "#query = context.query().group_by(\"sex\", \"race\", \"married\", \"educ\").agg(dp.len())\n",
    "query.summarize(alpha=0.05)"
   ]
  },
  {
   "cell_type": "code",
   "execution_count": null,
   "metadata": {},
   "outputs": [],
   "source": [
    "print(\"ages bruitées :\",query.release().collect().with_columns(Moyenne=pl.col(\"Somme des ages\") / pl.col(\"Taille dataset\")))\n",
    "print(\"ages :\",df.select(pl.col(\"age\").sum(), pl.len()).collect())"
   ]
  },
  {
   "cell_type": "code",
   "execution_count": null,
   "metadata": {},
   "outputs": [],
   "source": [
    "candidates = list(range(20, 60))\n",
    "\n",
    "query = (\n",
    "    context.query()\n",
    "    .select(\n",
    "        pl.col.age\n",
    "        .fill_null(0)\n",
    "        .dp.quantile(p, candidates)\n",
    "        .alias(f\"{p}-Quantile\")\n",
    "        for p in [0.25, 0.5, 0.75]\n",
    "    )\n",
    ")\n",
    "\n",
    "query.summarize(alpha=0.05)"
   ]
  },
  {
   "cell_type": "code",
   "execution_count": null,
   "metadata": {},
   "outputs": [],
   "source": [
    "query.release().collect()"
   ]
  },
  {
   "cell_type": "code",
   "execution_count": null,
   "metadata": {},
   "outputs": [],
   "source": [
    "query = (\n",
    "    context.query()\n",
    "    .group_by(\"race\")\n",
    "    .agg(dp.len())\n",
    ")\n",
    "\n",
    "print(query.summarize(alpha=0.05))\n",
    "result = query.release().collect()"
   ]
  },
  {
   "cell_type": "code",
   "execution_count": null,
   "metadata": {},
   "outputs": [],
   "source": [
    "import matplotlib.pyplot as plt\n",
    "import seaborn as sns\n",
    "\n",
    "# Exemples de données\n",
    "import polars as pl\n",
    "import pandas as pd\n",
    "\n",
    "\n",
    "# Convertir Polars DataFrame en Pandas pour utiliser Seaborn\n",
    "df_pandas = result.to_pandas()\n",
    "\n",
    "# Créer une liste pour stocker les valeurs répétées\n",
    "repeated_values = []\n",
    "\n",
    "# Répéter chaque 'age' selon la valeur de 'len'\n",
    "for index, row in df_pandas.iterrows():\n",
    "    repeated_values.extend([row['race']] * row['len'])\n",
    "\n",
    "# Créer un DataFrame Pandas avec les valeurs répétées\n",
    "df_pandas_repeated = pd.DataFrame(repeated_values, columns=['race'])\n",
    "\n",
    "# Créer la figure et les axes\n",
    "fig, axes = plt.subplots(2, 1, figsize=(10, 8))\n",
    "\n",
    "# Histogramme du DataFrame Polars (avec la colonne len)\n",
    "sns.countplot(x='race', data=df_pandas_repeated, ax=axes[0])\n",
    "axes[0].set_title('Barplot - race (valeurs répétées)')\n",
    "\n",
    "# Barplot pour la colonne 'race' directement dans le DataFrame collecté\n",
    "sns.countplot(x='race', data=df.collect().to_pandas(), ax=axes[1])\n",
    "axes[1].set_title('Barplot - race (original)')\n",
    "\n",
    "# Afficher le graphique\n",
    "plt.tight_layout()\n",
    "plt.show()\n"
   ]
  },
  {
   "cell_type": "code",
   "execution_count": null,
   "metadata": {},
   "outputs": [],
   "source": [
    "query = (\n",
    "    context.query()\n",
    "    .group_by(\"race\")\n",
    "    .agg(dp.len())\n",
    ")\n",
    "\n",
    "print(query.summarize(alpha=0.05))\n",
    "query.release().collect()"
   ]
  },
  {
   "cell_type": "code",
   "execution_count": null,
   "metadata": {},
   "outputs": [],
   "source": [
    "import matplotlib.pyplot as plt\n",
    "import seaborn as sns\n",
    "\n",
    "# Exemples de données\n",
    "import polars as pl\n",
    "import pandas as pd\n",
    "\n",
    "\n",
    "# Convertir Polars DataFrame en Pandas pour utiliser Seaborn\n",
    "df_pandas = query.release().collect().to_pandas()\n",
    "\n",
    "# Créer une liste pour stocker les valeurs répétées\n",
    "repeated_values = []\n",
    "\n",
    "# Répéter chaque 'age' selon la valeur de 'len'\n",
    "for index, row in df_pandas.iterrows():\n",
    "    repeated_values.extend([row['race']] * row['len'])\n",
    "\n",
    "# Créer un DataFrame Pandas avec les valeurs répétées\n",
    "df_pandas_repeated = pd.DataFrame(repeated_values, columns=['race'])\n",
    "\n",
    "# Créer la figure et les axes\n",
    "fig, axes = plt.subplots(2, 1, figsize=(10, 8))\n",
    "\n",
    "# Histogramme du DataFrame Polars (avec la colonne len)\n",
    "sns.countplot(x='race', data=df_pandas_repeated, ax=axes[0])\n",
    "axes[0].set_title('Barplot - race (valeurs répétées)')\n",
    "\n",
    "# Barplot pour la colonne 'race' directement dans le DataFrame collecté\n",
    "sns.countplot(x='race', data=df.collect().to_pandas(), ax=axes[1])\n",
    "axes[1].set_title('Barplot - race (original)')\n",
    "\n",
    "# Afficher le graphique\n",
    "plt.tight_layout()\n",
    "plt.show()"
   ]
  },
  {
   "cell_type": "markdown",
   "metadata": {},
   "source": [
    "dp.loss_of(epsilon=1.0) → dp.loss_of(rho=0.1) pour passer du laplace à Gauss"
   ]
  },
  {
   "cell_type": "code",
   "execution_count": null,
   "metadata": {},
   "outputs": [],
   "source": []
  }
 ],
 "metadata": {
  "kernelspec": {
   "display_name": "base",
   "language": "python",
   "name": "python3"
  },
  "language_info": {
   "codemirror_mode": {
    "name": "ipython",
    "version": 3
   },
   "file_extension": ".py",
   "mimetype": "text/x-python",
   "name": "python",
   "nbconvert_exporter": "python",
   "pygments_lexer": "ipython3",
   "version": "3.12.9"
  }
 },
 "nbformat": 4,
 "nbformat_minor": 2
}
